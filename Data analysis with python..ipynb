{
 "cells": [
  {
   "cell_type": "markdown",
   "id": "a11abf68",
   "metadata": {},
   "source": [
    "# OOPS Concept"
   ]
  },
  {
   "cell_type": "code",
   "execution_count": 1,
   "id": "53d8b269",
   "metadata": {},
   "outputs": [],
   "source": [
    "#OOP is Object Oriented Programm\n",
    "#creat a class & its object\n",
    "\n",
    "\n",
    "class bird():\n",
    "    pass\n",
    "    "
   ]
  },
  {
   "cell_type": "code",
   "execution_count": 2,
   "id": "f29c7eb8",
   "metadata": {},
   "outputs": [],
   "source": [
    "b1=bird()"
   ]
  },
  {
   "cell_type": "code",
   "execution_count": 3,
   "id": "335767e9",
   "metadata": {},
   "outputs": [
    {
     "name": "stdout",
     "output_type": "stream",
     "text": [
      "This is bird class\n"
     ]
    },
    {
     "data": {
      "text/plain": [
       "<__main__.bird at 0x1fdebdb7a60>"
      ]
     },
     "execution_count": 3,
     "metadata": {},
     "output_type": "execute_result"
    }
   ],
   "source": [
    "class bird():\n",
    "    print('This is bird class')\n",
    "\n",
    "B=bird()\n",
    "B\n"
   ]
  },
  {
   "cell_type": "code",
   "execution_count": 4,
   "id": "eebc954c",
   "metadata": {},
   "outputs": [],
   "source": [
    "class bird():\n",
    "    shape=76\n",
    "    color='Red'\n",
    "    weight=23"
   ]
  },
  {
   "cell_type": "code",
   "execution_count": 5,
   "id": "bc104fbb",
   "metadata": {},
   "outputs": [],
   "source": [
    "B1=bird()"
   ]
  },
  {
   "cell_type": "code",
   "execution_count": 6,
   "id": "b7d32f30",
   "metadata": {},
   "outputs": [
    {
     "data": {
      "text/plain": [
       "76"
      ]
     },
     "execution_count": 6,
     "metadata": {},
     "output_type": "execute_result"
    }
   ],
   "source": [
    "B1.shape"
   ]
  },
  {
   "cell_type": "code",
   "execution_count": 7,
   "id": "b332fb69",
   "metadata": {},
   "outputs": [],
   "source": [
    "B1.height=2"
   ]
  },
  {
   "cell_type": "code",
   "execution_count": 8,
   "id": "6204264f",
   "metadata": {},
   "outputs": [
    {
     "data": {
      "text/plain": [
       "2"
      ]
     },
     "execution_count": 8,
     "metadata": {},
     "output_type": "execute_result"
    }
   ],
   "source": [
    "B1.height"
   ]
  },
  {
   "cell_type": "code",
   "execution_count": 9,
   "id": "d4618d68",
   "metadata": {},
   "outputs": [],
   "source": [
    "class animal():\n",
    "    shape='Long'\n",
    "    color= 'Brown'\n",
    "    name= 'Horse'\n",
    "A= animal()    \n",
    "        "
   ]
  },
  {
   "cell_type": "code",
   "execution_count": 10,
   "id": "604e4273",
   "metadata": {},
   "outputs": [
    {
     "data": {
      "text/plain": [
       "'Long'"
      ]
     },
     "execution_count": 10,
     "metadata": {},
     "output_type": "execute_result"
    }
   ],
   "source": [
    "A.shape"
   ]
  },
  {
   "cell_type": "code",
   "execution_count": 11,
   "id": "a9932c55",
   "metadata": {},
   "outputs": [
    {
     "data": {
      "text/plain": [
       "'Horse'"
      ]
     },
     "execution_count": 11,
     "metadata": {},
     "output_type": "execute_result"
    }
   ],
   "source": [
    "A.name"
   ]
  },
  {
   "cell_type": "code",
   "execution_count": 12,
   "id": "4cb6e12b",
   "metadata": {},
   "outputs": [
    {
     "data": {
      "text/plain": [
       "'Brown'"
      ]
     },
     "execution_count": 12,
     "metadata": {},
     "output_type": "execute_result"
    }
   ],
   "source": [
    "A.color"
   ]
  },
  {
   "cell_type": "code",
   "execution_count": 13,
   "id": "1ded4d85",
   "metadata": {},
   "outputs": [],
   "source": [
    "class square():\n",
    "    side=12\n",
    "    def Side (self):\n",
    "        print('The value of side is ')\n",
    "SQ = square()"
   ]
  },
  {
   "cell_type": "code",
   "execution_count": 14,
   "id": "225c271b",
   "metadata": {},
   "outputs": [
    {
     "name": "stdout",
     "output_type": "stream",
     "text": [
      "The value of side is \n"
     ]
    }
   ],
   "source": [
    "SQ.Side()"
   ]
  },
  {
   "cell_type": "code",
   "execution_count": 15,
   "id": "b19bf95e",
   "metadata": {},
   "outputs": [],
   "source": [
    "# write a program to calculate perimeter of square\n",
    "class square():\n",
    "    def peri (self,x):\n",
    "        return x*4"
   ]
  },
  {
   "cell_type": "code",
   "execution_count": 16,
   "id": "4c9623cc",
   "metadata": {},
   "outputs": [],
   "source": [
    "S=square()"
   ]
  },
  {
   "cell_type": "code",
   "execution_count": 17,
   "id": "4fbcfe7b",
   "metadata": {},
   "outputs": [
    {
     "data": {
      "text/plain": [
       "12"
      ]
     },
     "execution_count": 17,
     "metadata": {},
     "output_type": "execute_result"
    }
   ],
   "source": [
    "S.peri(3)"
   ]
  },
  {
   "cell_type": "code",
   "execution_count": 18,
   "id": "b39a05a7",
   "metadata": {},
   "outputs": [],
   "source": [
    "# create a constructor\n",
    "class car():\n",
    "    def __init__ (self,m,p):\n",
    "        self.modelname=m\n",
    "        self.price=p"
   ]
  },
  {
   "cell_type": "code",
   "execution_count": 19,
   "id": "b875bcf5",
   "metadata": {},
   "outputs": [],
   "source": [
    "Honda=car('City',20998)"
   ]
  },
  {
   "cell_type": "code",
   "execution_count": 20,
   "id": "2c027a84",
   "metadata": {},
   "outputs": [
    {
     "data": {
      "text/plain": [
       "20998"
      ]
     },
     "execution_count": 20,
     "metadata": {},
     "output_type": "execute_result"
    }
   ],
   "source": [
    "Honda.price"
   ]
  },
  {
   "cell_type": "code",
   "execution_count": 21,
   "id": "9ab91dbe",
   "metadata": {},
   "outputs": [],
   "source": [
    "class car():\n",
    "    def __init__ (self,m,p):\n",
    "        self.modelname=m\n",
    "        self.price=p\n",
    "    def display(self):\n",
    "        print('The Car name is ',self.modelname)"
   ]
  },
  {
   "cell_type": "code",
   "execution_count": 22,
   "id": "671969ea",
   "metadata": {},
   "outputs": [
    {
     "name": "stdout",
     "output_type": "stream",
     "text": [
      "The Car name is  amaze\n"
     ]
    }
   ],
   "source": [
    "AA= car('amaze',23455)\n",
    "AA.display()"
   ]
  },
  {
   "cell_type": "code",
   "execution_count": 23,
   "id": "76b4b446",
   "metadata": {},
   "outputs": [],
   "source": [
    "# Inheritance----parent child class\n",
    "#Inheritance allows us to define a class that inherits all the methods and properties from another class. Parent class is \n",
    "#the class being inherited from, also called base class. Child class is the class that inherits from another class, also \n",
    "#called derived class.\n",
    "class person ():\n",
    "    def display1(self):\n",
    "        print('This is a parent class')\n",
    "class employee(person):\n",
    "    def display2(self):\n",
    "        print('This is a child class')"
   ]
  },
  {
   "cell_type": "code",
   "execution_count": 24,
   "id": "3705f72d",
   "metadata": {},
   "outputs": [],
   "source": [
    "B = employee()"
   ]
  },
  {
   "cell_type": "code",
   "execution_count": 25,
   "id": "ff331062",
   "metadata": {},
   "outputs": [
    {
     "name": "stdout",
     "output_type": "stream",
     "text": [
      "This is a parent class\n"
     ]
    }
   ],
   "source": [
    "B.display1()"
   ]
  },
  {
   "cell_type": "code",
   "execution_count": 26,
   "id": "33dee1f6",
   "metadata": {},
   "outputs": [],
   "source": [
    "# parent class has constructor\n",
    "class person:\n",
    "     def __init__(self,n,s,d):\n",
    "        self.name=n\n",
    "        self.salary=s\n",
    "        self.desgination=d\n",
    "        \n",
    "     def display1(self):\n",
    "        print(\"This is super class\",self.name,self.salary)\n",
    "        \n",
    "class employee(person):\n",
    "        def display2(self):\n",
    "            print(\"This is sub class\",self.desgination)"
   ]
  },
  {
   "cell_type": "code",
   "execution_count": 27,
   "id": "5efdc08d",
   "metadata": {},
   "outputs": [
    {
     "name": "stdout",
     "output_type": "stream",
     "text": [
      "This is super class Jay 355566\n"
     ]
    }
   ],
   "source": [
    "BB= employee('Jay',355566,'Manager')\n",
    "BB.display1()"
   ]
  },
  {
   "cell_type": "code",
   "execution_count": 28,
   "id": "9837ce30",
   "metadata": {},
   "outputs": [
    {
     "name": "stdout",
     "output_type": "stream",
     "text": [
      "John 10000 manager\n"
     ]
    }
   ],
   "source": [
    "# if both class have constructor \n",
    "class person:\n",
    "     def __init__(self,n,s):\n",
    "        self.name=n\n",
    "        self.salary=s\n",
    "           \n",
    "           \n",
    "class employee(person):\n",
    "     def __init__(self,e_name,e_salary,e_desig):\n",
    "        self.designation=e_desig\n",
    "        person.__init__(self,e_name,e_salary)    \n",
    "        \n",
    "emp1=employee('John',10000,'manager')\n",
    "print(emp1.name,emp1.salary,emp1.designation)"
   ]
  },
  {
   "cell_type": "code",
   "execution_count": 29,
   "id": "d08e642f",
   "metadata": {},
   "outputs": [
    {
     "name": "stdout",
     "output_type": "stream",
     "text": [
      "This is square\n",
      "This is rect\n",
      "This is shape\n"
     ]
    }
   ],
   "source": [
    "# Multilevel inheritance\n",
    "class shape():\n",
    "    def m(self):\n",
    "        print(\"This is shape\")\n",
    "class rect(shape):\n",
    "    def m1(self):\n",
    "        print(\"This is rect\")\n",
    "class square(rect):\n",
    "    def m2(self):\n",
    "        print(\"This is square\")\n",
    "s=square()\n",
    "s.m2()\n",
    "s.m1()\n",
    "s.m()"
   ]
  },
  {
   "cell_type": "code",
   "execution_count": 30,
   "id": "ed4795c8",
   "metadata": {},
   "outputs": [],
   "source": [
    "# multiple inheritance\n",
    "class shape():\n",
    "    def m(self):\n",
    "        print(\"This is shape\")\n",
    "class rect(shape):\n",
    "    def m1(self):\n",
    "        print(\"This is rect\")\n",
    "class square(rect,shape):\n",
    "    def m2(self):\n",
    "        print(\"This is square\")"
   ]
  },
  {
   "cell_type": "code",
   "execution_count": 31,
   "id": "34358a2f",
   "metadata": {},
   "outputs": [],
   "source": [
    "S=square()"
   ]
  },
  {
   "cell_type": "code",
   "execution_count": 32,
   "id": "52858034",
   "metadata": {},
   "outputs": [
    {
     "name": "stdout",
     "output_type": "stream",
     "text": [
      "This is shape\n"
     ]
    }
   ],
   "source": [
    "S.m()"
   ]
  },
  {
   "cell_type": "code",
   "execution_count": 33,
   "id": "1cd3e12e",
   "metadata": {},
   "outputs": [],
   "source": [
    "#Polymorphism in python is a term used to refer to an object's ability to take on multiple forms.\n",
    "#The term is derived from two distinct terms: poly, which means numerous, and morphs, which means forms.\n",
    "#Polymorphism is often used in Class methods, where we can have multiple classes with the same method name.\n",
    "# Example of polymorphism is chamaeleon(girgit) who changes his color accouding to things he touches.\n",
    "#For example, say we have three classes: Car, Boat, and Plane, and they all have a method called move():"
   ]
  },
  {
   "cell_type": "code",
   "execution_count": 34,
   "id": "4a79efe9",
   "metadata": {},
   "outputs": [],
   "source": [
    "class car:\n",
    "    def __init__ (self,m,p):\n",
    "        self.model=m\n",
    "        self.price=p\n",
    "    def move(self):\n",
    "        print('Drive !')\n",
    "class Boat:\n",
    "    def __init__ (self,m,p):\n",
    "        self.model=m\n",
    "        self.price=p\n",
    "    def move(self):\n",
    "        print('Sail !')\n",
    "class plane:\n",
    "    def __init__ (self,m,p):\n",
    "        self.model=m\n",
    "        self.price=p\n",
    "    def move(self):\n",
    "        print('Fly !')\n",
    "        "
   ]
  },
  {
   "cell_type": "code",
   "execution_count": 35,
   "id": "a73265f9",
   "metadata": {},
   "outputs": [],
   "source": [
    "CAR=car('Honda',456788)\n",
    "BOAT=Boat('Ibiza',6787657)\n",
    "PLANE=plane('Boing',7656896)"
   ]
  },
  {
   "cell_type": "code",
   "execution_count": 36,
   "id": "76eb21c9",
   "metadata": {},
   "outputs": [
    {
     "name": "stdout",
     "output_type": "stream",
     "text": [
      "Drive !\n"
     ]
    }
   ],
   "source": [
    "CAR.move()"
   ]
  },
  {
   "cell_type": "code",
   "execution_count": 37,
   "id": "77c86292",
   "metadata": {},
   "outputs": [
    {
     "name": "stdout",
     "output_type": "stream",
     "text": [
      "Fly !\n"
     ]
    }
   ],
   "source": [
    "PLANE.move()"
   ]
  },
  {
   "cell_type": "code",
   "execution_count": 38,
   "id": "bbe2890b",
   "metadata": {},
   "outputs": [
    {
     "name": "stdout",
     "output_type": "stream",
     "text": [
      "Drive !\n",
      "Sail !\n",
      "Fly !\n"
     ]
    }
   ],
   "source": [
    "for x in (CAR,BOAT,PLANE):\n",
    "    x.move()"
   ]
  },
  {
   "cell_type": "markdown",
   "id": "3dc61bf8",
   "metadata": {},
   "source": [
    "# What is a Module?\n",
    "Consider a module to be the same as a code library.\n",
    "\n",
    "A file containing a set of functions you want to include in your application."
   ]
  },
  {
   "cell_type": "code",
   "execution_count": 39,
   "id": "f747f904",
   "metadata": {},
   "outputs": [
    {
     "data": {
      "text/plain": [
       "5040"
      ]
     },
     "execution_count": 39,
     "metadata": {},
     "output_type": "execute_result"
    }
   ],
   "source": [
    "import math\n",
    "math.factorial(7)\n"
   ]
  },
  {
   "cell_type": "markdown",
   "id": "d4f28fc8",
   "metadata": {},
   "source": [
    "# Packages\n",
    "A Python package usually consists of several modules. Physically, a package is a folder containing modules and maybe other\n",
    "folders that themselves may contain more folders and modules. Conceptually, it's a namespace."
   ]
  },
  {
   "cell_type": "markdown",
   "id": "f08d35af",
   "metadata": {},
   "source": [
    "# Numpy Library"
   ]
  },
  {
   "cell_type": "markdown",
   "id": "34730951",
   "metadata": {},
   "source": [
    " NumPy is a Python library \n",
    "-- used for working with arrays. \n",
    "\n",
    "-- It also has functions for working in domain of linear algebra and matrices. \n",
    "\n",
    "-- NumPy was created in 2005 by Travis Oliphant."
   ]
  },
  {
   "cell_type": "code",
   "execution_count": 40,
   "id": "baead66b",
   "metadata": {},
   "outputs": [],
   "source": [
    "import numpy as np"
   ]
  },
  {
   "cell_type": "code",
   "execution_count": 41,
   "id": "85e70c20",
   "metadata": {},
   "outputs": [
    {
     "data": {
      "text/plain": [
       "array([2, 5, 8, 9])"
      ]
     },
     "execution_count": 41,
     "metadata": {},
     "output_type": "execute_result"
    }
   ],
   "source": [
    "# Create 1-D Array in np\n",
    "arr1 = np.array([2,5,8,9])\n",
    "arr1"
   ]
  },
  {
   "cell_type": "code",
   "execution_count": 42,
   "id": "5b07a665",
   "metadata": {},
   "outputs": [
    {
     "data": {
      "text/plain": [
       "array([ 56,  87,  98, 423])"
      ]
     },
     "execution_count": 42,
     "metadata": {},
     "output_type": "execute_result"
    }
   ],
   "source": [
    "list1=[56,87,98,423]\n",
    "arr2= np.array(list1)\n",
    "arr2"
   ]
  },
  {
   "cell_type": "code",
   "execution_count": 43,
   "id": "5c9d33a5",
   "metadata": {},
   "outputs": [
    {
     "name": "stdout",
     "output_type": "stream",
     "text": [
      "[ 3.  6.  9. 69. 23.]\n"
     ]
    }
   ],
   "source": [
    "list2=[3,6,9,69,23]\n",
    "arr2=np.array(list2,dtype=float)\n",
    "print(arr2)"
   ]
  },
  {
   "cell_type": "code",
   "execution_count": 44,
   "id": "0654da2b",
   "metadata": {},
   "outputs": [
    {
     "data": {
      "text/plain": [
       "array([[1, 2, 3, 4, 5],\n",
       "       [6, 7, 8, 9, 0]])"
      ]
     },
     "execution_count": 44,
     "metadata": {},
     "output_type": "execute_result"
    }
   ],
   "source": [
    "# Create 2-D array\n",
    "arr2D = np.array([[1,2,3,4,5],[6,7,8,9,0]])\n",
    "arr2D"
   ]
  },
  {
   "cell_type": "code",
   "execution_count": 45,
   "id": "d686e6cb",
   "metadata": {},
   "outputs": [
    {
     "data": {
      "text/plain": [
       "array([[49, 26],\n",
       "       [22, 18],\n",
       "       [36, 47]])"
      ]
     },
     "execution_count": 45,
     "metadata": {},
     "output_type": "execute_result"
    }
   ],
   "source": [
    "#Create a 2D NumPy array of shape (3, 2) with random integers between 1 and 50. \n",
    "import numpy as np\n",
    "arr1=np.random.randint(1,51,size=(3,2))\n",
    "arr1"
   ]
  },
  {
   "cell_type": "code",
   "execution_count": 46,
   "id": "325ce518",
   "metadata": {},
   "outputs": [
    {
     "data": {
      "text/plain": [
       "array([1904, 1904, 6084, 8100,   96])"
      ]
     },
     "execution_count": 46,
     "metadata": {},
     "output_type": "execute_result"
    }
   ],
   "source": [
    "# multiplication\n",
    "arr1=np.array([34,56,78,90,3])\n",
    "arr2=np.array([56,34,78,90,32])\n",
    "arr3 = arr1*arr2\n",
    "arr3"
   ]
  },
  {
   "cell_type": "code",
   "execution_count": 47,
   "id": "d1e96270",
   "metadata": {},
   "outputs": [
    {
     "data": {
      "text/plain": [
       "array([ 90,  90, 156, 180,  35])"
      ]
     },
     "execution_count": 47,
     "metadata": {},
     "output_type": "execute_result"
    }
   ],
   "source": [
    "arr3 = arr1+arr2\n",
    "arr3"
   ]
  },
  {
   "cell_type": "code",
   "execution_count": 48,
   "id": "632b0dad",
   "metadata": {},
   "outputs": [],
   "source": [
    "#Create a 2D NumPy array of shape (6, 2) with random integers between 1 and 100. "
   ]
  },
  {
   "cell_type": "code",
   "execution_count": 49,
   "id": "999b4ab2",
   "metadata": {},
   "outputs": [
    {
     "data": {
      "text/plain": [
       "(5,)"
      ]
     },
     "execution_count": 49,
     "metadata": {},
     "output_type": "execute_result"
    }
   ],
   "source": [
    "#Attributes\n",
    "#Shape\n",
    "arr3.shape"
   ]
  },
  {
   "cell_type": "code",
   "execution_count": 50,
   "id": "03ca1d99",
   "metadata": {},
   "outputs": [
    {
     "data": {
      "text/plain": [
       "(2, 5)"
      ]
     },
     "execution_count": 50,
     "metadata": {},
     "output_type": "execute_result"
    }
   ],
   "source": [
    "arr2D.shape"
   ]
  },
  {
   "cell_type": "code",
   "execution_count": 51,
   "id": "a9f361b4",
   "metadata": {},
   "outputs": [
    {
     "data": {
      "text/plain": [
       "1"
      ]
     },
     "execution_count": 51,
     "metadata": {},
     "output_type": "execute_result"
    }
   ],
   "source": [
    "# dimention\n",
    "arr3.ndim"
   ]
  },
  {
   "cell_type": "code",
   "execution_count": 52,
   "id": "d102955e",
   "metadata": {},
   "outputs": [
    {
     "data": {
      "text/plain": [
       "2"
      ]
     },
     "execution_count": 52,
     "metadata": {},
     "output_type": "execute_result"
    }
   ],
   "source": [
    "arr2D.ndim"
   ]
  },
  {
   "cell_type": "code",
   "execution_count": 53,
   "id": "85444b9a",
   "metadata": {},
   "outputs": [
    {
     "data": {
      "text/plain": [
       "4"
      ]
     },
     "execution_count": 53,
     "metadata": {},
     "output_type": "execute_result"
    }
   ],
   "source": [
    "# ietemsize\n",
    "arr3.itemsize"
   ]
  },
  {
   "cell_type": "code",
   "execution_count": 54,
   "id": "200a0ca2",
   "metadata": {},
   "outputs": [
    {
     "data": {
      "text/plain": [
       "20"
      ]
     },
     "execution_count": 54,
     "metadata": {},
     "output_type": "execute_result"
    }
   ],
   "source": [
    "arr3.nbytes"
   ]
  },
  {
   "cell_type": "code",
   "execution_count": 55,
   "id": "32e09ad5",
   "metadata": {},
   "outputs": [
    {
     "data": {
      "text/plain": [
       "array([['apple', 'banana', 'mango'],\n",
       "       ['fruit', 'veg', 'nonveg']], dtype='<U6')"
      ]
     },
     "execution_count": 55,
     "metadata": {},
     "output_type": "execute_result"
    }
   ],
   "source": [
    "arr3= np.array([['apple','banana','mango'],['fruit','veg','nonveg']])\n",
    "arr3"
   ]
  },
  {
   "cell_type": "code",
   "execution_count": 56,
   "id": "9e8e42d5",
   "metadata": {},
   "outputs": [
    {
     "name": "stdout",
     "output_type": "stream",
     "text": [
      "[['apple' 'banana' 'mango']\n",
      " ['fruit' 'veg' 'nonveg']]\n",
      "2\n",
      "(2, 3)\n",
      "<U6\n",
      "24\n",
      "144\n"
     ]
    }
   ],
   "source": [
    "print(arr3)\n",
    "print(arr3.ndim)\n",
    "print(arr3.shape)\n",
    "print(arr3.dtype)\n",
    "print(arr3.itemsize)\n",
    "print(arr3.nbytes)"
   ]
  },
  {
   "cell_type": "markdown",
   "id": "087284b5",
   "metadata": {},
   "source": [
    "arr3.nbytes"
   ]
  },
  {
   "cell_type": "code",
   "execution_count": 57,
   "id": "4f74d7b7",
   "metadata": {},
   "outputs": [
    {
     "data": {
      "text/plain": [
       "array([[1, 2, 3],\n",
       "       [4, 5, 6],\n",
       "       [5, 8, 9]])"
      ]
     },
     "execution_count": 57,
     "metadata": {},
     "output_type": "execute_result"
    }
   ],
   "source": [
    "# Access the array elements\n",
    "A = np.array([[1,2,3],[4,5,6],[5,8,9]])\n",
    "A"
   ]
  },
  {
   "cell_type": "code",
   "execution_count": 58,
   "id": "b8b516c5",
   "metadata": {},
   "outputs": [
    {
     "data": {
      "text/plain": [
       "2"
      ]
     },
     "execution_count": 58,
     "metadata": {},
     "output_type": "execute_result"
    }
   ],
   "source": [
    "A[0,1]"
   ]
  },
  {
   "cell_type": "code",
   "execution_count": 59,
   "id": "0aa1343a",
   "metadata": {},
   "outputs": [
    {
     "data": {
      "text/plain": [
       "array([1, 2, 3])"
      ]
     },
     "execution_count": 59,
     "metadata": {},
     "output_type": "execute_result"
    }
   ],
   "source": [
    "A[0]"
   ]
  },
  {
   "cell_type": "code",
   "execution_count": 60,
   "id": "f28d8872",
   "metadata": {},
   "outputs": [
    {
     "data": {
      "text/plain": [
       "array([[1, 2],\n",
       "       [4, 5]])"
      ]
     },
     "execution_count": 60,
     "metadata": {},
     "output_type": "execute_result"
    }
   ],
   "source": [
    "A[0:2,0:2]"
   ]
  },
  {
   "cell_type": "markdown",
   "id": "4c1a6ff1",
   "metadata": {},
   "source": [
    "# Pandas\n",
    "Library for data wrangling , cleaning , manipulation\n",
    "\n",
    "Intrinsic data alignment done through labeling.\n",
    "\n",
    "Functions such as merge, groupby , and join.\n",
    "\n",
    "Handle Missing Values.\n",
    "\n",
    "Data Standardisation.\n",
    "\n",
    "Is built on top of Numpy.\n",
    "\n",
    "Fast and Efficient when it comes to data wrangling.\n",
    "\n",
    "Tools for reading and writing data.\n",
    "\n",
    "Data aggregation and transformation."
   ]
  },
  {
   "cell_type": "markdown",
   "id": "df3a502d",
   "metadata": {},
   "source": [
    "### Data Structures of Pandas\n",
    "- Series  : One dimensional \n",
    "- Dataframe : Two dimensional"
   ]
  },
  {
   "cell_type": "markdown",
   "id": "486683eb",
   "metadata": {},
   "source": [
    "##### Series\n",
    "- One dimensional\n",
    "- Data and labels. Labels are also called indexes.\n",
    "- Data alignment is intrinsic and takes place automatically.\n",
    "- Change the data alignment by indexing."
   ]
  },
  {
   "cell_type": "code",
   "execution_count": 2,
   "id": "71f73fcd",
   "metadata": {},
   "outputs": [],
   "source": [
    "import pandas as pd"
   ]
  },
  {
   "cell_type": "code",
   "execution_count": 62,
   "id": "ae4afca3",
   "metadata": {},
   "outputs": [
    {
     "data": {
      "text/plain": [
       "0    3\n",
       "1    6\n",
       "2    8\n",
       "3    9\n",
       "4    0\n",
       "dtype: int64"
      ]
     },
     "execution_count": 62,
     "metadata": {},
     "output_type": "execute_result"
    }
   ],
   "source": [
    "# Creating a Series using list.\n",
    "lst=[3,6,8,9,0]\n",
    "S= pd.Series(lst)\n",
    "S"
   ]
  },
  {
   "cell_type": "code",
   "execution_count": 63,
   "id": "a973b829",
   "metadata": {},
   "outputs": [
    {
     "data": {
      "text/plain": [
       "0    a\n",
       "1    b\n",
       "2    c\n",
       "3    d\n",
       "4    e\n",
       "dtype: object"
      ]
     },
     "execution_count": 63,
     "metadata": {},
     "output_type": "execute_result"
    }
   ],
   "source": [
    "SS=pd.Series(['a','b','c','d','e'])\n",
    "SS"
   ]
  },
  {
   "cell_type": "code",
   "execution_count": 64,
   "id": "baaf0819",
   "metadata": {},
   "outputs": [
    {
     "data": {
      "text/plain": [
       "0    34\n",
       "1    56\n",
       "2    78\n",
       "3    90\n",
       "4    23\n",
       "dtype: object"
      ]
     },
     "execution_count": 64,
     "metadata": {},
     "output_type": "execute_result"
    }
   ],
   "source": [
    "S= pd.Series([34,'56',78,90,23])\n",
    "S"
   ]
  },
  {
   "cell_type": "code",
   "execution_count": 65,
   "id": "2c0ec2a5",
   "metadata": {},
   "outputs": [
    {
     "data": {
      "text/plain": [
       "jay      34\n",
       "John     56\n",
       "Shyam    78\n",
       "Ram      90\n",
       "Rohit    23\n",
       "dtype: object"
      ]
     },
     "execution_count": 65,
     "metadata": {},
     "output_type": "execute_result"
    }
   ],
   "source": [
    "S= pd.Series([34,'56',78,90,23],index=['jay','John','Shyam','Ram','Rohit'])\n",
    "S"
   ]
  },
  {
   "cell_type": "code",
   "execution_count": 70,
   "id": "2592f952",
   "metadata": {},
   "outputs": [
    {
     "data": {
      "text/plain": [
       "Shyam    78\n",
       "Ram      90\n",
       "Rohit    23\n",
       "dtype: object"
      ]
     },
     "execution_count": 70,
     "metadata": {},
     "output_type": "execute_result"
    }
   ],
   "source": [
    "S['Shyam':'Rohit']"
   ]
  },
  {
   "cell_type": "code",
   "execution_count": 71,
   "id": "a4eeafb1",
   "metadata": {},
   "outputs": [
    {
     "data": {
      "text/plain": [
       "0    3\n",
       "1    6\n",
       "2    7\n",
       "3    9\n",
       "4    0\n",
       "5    5\n",
       "dtype: int32"
      ]
     },
     "execution_count": 71,
     "metadata": {},
     "output_type": "execute_result"
    }
   ],
   "source": [
    "AA=np.array([3,6,7,9,0,5])\n",
    "SSS=pd.Series(AA)\n",
    "SSS"
   ]
  },
  {
   "cell_type": "code",
   "execution_count": 74,
   "id": "16b63c49",
   "metadata": {},
   "outputs": [
    {
     "data": {
      "text/plain": [
       "a    10\n",
       "b    20\n",
       "c    30\n",
       "dtype: int64"
      ]
     },
     "execution_count": 74,
     "metadata": {},
     "output_type": "execute_result"
    }
   ],
   "source": [
    "# Create a series using dictionary\n",
    "dict1 = {'a':10 , 'b':20 , 'c':30}\n",
    "SD = pd.Series(dict1)\n",
    "SD"
   ]
  },
  {
   "cell_type": "code",
   "execution_count": 3,
   "id": "596f12bd",
   "metadata": {},
   "outputs": [
    {
     "data": {
      "text/plain": [
       "Maths         99\n",
       "Science       98\n",
       "Statistics    97\n",
       "English       96\n",
       "German        95\n",
       "dtype: int64"
      ]
     },
     "execution_count": 3,
     "metadata": {},
     "output_type": "execute_result"
    }
   ],
   "source": [
    " # Accessing labels\n",
    "student_marks = pd.Series([99,98,97,96,95],index=['Maths','Science','Statistics','English','German'])\n",
    "student_marks"
   ]
  },
  {
   "cell_type": "code",
   "execution_count": 4,
   "id": "695ffe79",
   "metadata": {},
   "outputs": [
    {
     "data": {
      "text/plain": [
       "99"
      ]
     },
     "execution_count": 4,
     "metadata": {},
     "output_type": "execute_result"
    }
   ],
   "source": [
    "student_marks['Maths']"
   ]
  },
  {
   "cell_type": "code",
   "execution_count": 5,
   "id": "6693bf5b",
   "metadata": {},
   "outputs": [
    {
     "data": {
      "text/plain": [
       "97"
      ]
     },
     "execution_count": 5,
     "metadata": {},
     "output_type": "execute_result"
    }
   ],
   "source": [
    "student_marks['Statistics']"
   ]
  },
  {
   "cell_type": "code",
   "execution_count": 6,
   "id": "1107a8ef",
   "metadata": {},
   "outputs": [
    {
     "data": {
      "text/plain": [
       "Maths         99\n",
       "Science       98\n",
       "Statistics    97\n",
       "English       96\n",
       "dtype: int64"
      ]
     },
     "execution_count": 6,
     "metadata": {},
     "output_type": "execute_result"
    }
   ],
   "source": [
    "student_marks['Maths':'English']"
   ]
  },
  {
   "cell_type": "code",
   "execution_count": 7,
   "id": "ceb8cc63",
   "metadata": {},
   "outputs": [
    {
     "data": {
      "text/plain": [
       "99"
      ]
     },
     "execution_count": 7,
     "metadata": {},
     "output_type": "execute_result"
    }
   ],
   "source": [
    "# loc and iloc\n",
    "# loc is label based and iloc is index based\n",
    "\n",
    "# Maths marks using loc\n",
    "student_marks.loc['Maths']"
   ]
  },
  {
   "cell_type": "code",
   "execution_count": 8,
   "id": "52e6f4e8",
   "metadata": {},
   "outputs": [
    {
     "data": {
      "text/plain": [
       "Maths         99\n",
       "Science       98\n",
       "Statistics    97\n",
       "English       96\n",
       "German        95\n",
       "dtype: int64"
      ]
     },
     "execution_count": 8,
     "metadata": {},
     "output_type": "execute_result"
    }
   ],
   "source": [
    "student_marks"
   ]
  },
  {
   "cell_type": "code",
   "execution_count": 10,
   "id": "c000d08d",
   "metadata": {},
   "outputs": [
    {
     "data": {
      "text/plain": [
       "95"
      ]
     },
     "execution_count": 10,
     "metadata": {},
     "output_type": "execute_result"
    }
   ],
   "source": [
    "student_marks.iloc[-1]"
   ]
  },
  {
   "cell_type": "markdown",
   "id": "3ad89155",
   "metadata": {},
   "source": [
    "# Data Frame\n",
    "Two dimensional\n",
    "\n",
    "labelled data structures\n",
    "\n",
    "columns can be of different data types.\n",
    "\n",
    "Looks like a spread-sheet."
   ]
  },
  {
   "cell_type": "code",
   "execution_count": 11,
   "id": "db9fa70a",
   "metadata": {},
   "outputs": [
    {
     "data": {
      "text/html": [
       "<div>\n",
       "<style scoped>\n",
       "    .dataframe tbody tr th:only-of-type {\n",
       "        vertical-align: middle;\n",
       "    }\n",
       "\n",
       "    .dataframe tbody tr th {\n",
       "        vertical-align: top;\n",
       "    }\n",
       "\n",
       "    .dataframe thead th {\n",
       "        text-align: right;\n",
       "    }\n",
       "</style>\n",
       "<table border=\"1\" class=\"dataframe\">\n",
       "  <thead>\n",
       "    <tr style=\"text-align: right;\">\n",
       "      <th></th>\n",
       "      <th>0</th>\n",
       "    </tr>\n",
       "  </thead>\n",
       "  <tbody>\n",
       "    <tr>\n",
       "      <th>0</th>\n",
       "      <td>1</td>\n",
       "    </tr>\n",
       "    <tr>\n",
       "      <th>1</th>\n",
       "      <td>2</td>\n",
       "    </tr>\n",
       "    <tr>\n",
       "      <th>2</th>\n",
       "      <td>3</td>\n",
       "    </tr>\n",
       "    <tr>\n",
       "      <th>3</th>\n",
       "      <td>4</td>\n",
       "    </tr>\n",
       "    <tr>\n",
       "      <th>4</th>\n",
       "      <td>5</td>\n",
       "    </tr>\n",
       "    <tr>\n",
       "      <th>5</th>\n",
       "      <td>6</td>\n",
       "    </tr>\n",
       "    <tr>\n",
       "      <th>6</th>\n",
       "      <td>7</td>\n",
       "    </tr>\n",
       "  </tbody>\n",
       "</table>\n",
       "</div>"
      ],
      "text/plain": [
       "   0\n",
       "0  1\n",
       "1  2\n",
       "2  3\n",
       "3  4\n",
       "4  5\n",
       "5  6\n",
       "6  7"
      ]
     },
     "execution_count": 11,
     "metadata": {},
     "output_type": "execute_result"
    }
   ],
   "source": [
    "lst1=[1,2,3,4,5,6,7]\n",
    "DF=pd.DataFrame(lst1)\n",
    "DF"
   ]
  },
  {
   "cell_type": "code",
   "execution_count": 12,
   "id": "14095b5b",
   "metadata": {},
   "outputs": [
    {
     "data": {
      "text/plain": [
       "array([[11, 22, 32, 44, 55],\n",
       "       [ 1,  2,  3,  4,  5]])"
      ]
     },
     "execution_count": 12,
     "metadata": {},
     "output_type": "execute_result"
    }
   ],
   "source": [
    "import numpy as np\n",
    "arr1 = np.array([[11,22,32,44,55],[1,2,3,4,5]])\n",
    "arr1"
   ]
  },
  {
   "cell_type": "code",
   "execution_count": 13,
   "id": "43cf546d",
   "metadata": {},
   "outputs": [
    {
     "data": {
      "text/html": [
       "<div>\n",
       "<style scoped>\n",
       "    .dataframe tbody tr th:only-of-type {\n",
       "        vertical-align: middle;\n",
       "    }\n",
       "\n",
       "    .dataframe tbody tr th {\n",
       "        vertical-align: top;\n",
       "    }\n",
       "\n",
       "    .dataframe thead th {\n",
       "        text-align: right;\n",
       "    }\n",
       "</style>\n",
       "<table border=\"1\" class=\"dataframe\">\n",
       "  <thead>\n",
       "    <tr style=\"text-align: right;\">\n",
       "      <th></th>\n",
       "      <th>0</th>\n",
       "      <th>1</th>\n",
       "      <th>2</th>\n",
       "      <th>3</th>\n",
       "      <th>4</th>\n",
       "    </tr>\n",
       "  </thead>\n",
       "  <tbody>\n",
       "    <tr>\n",
       "      <th>0</th>\n",
       "      <td>11</td>\n",
       "      <td>22</td>\n",
       "      <td>32</td>\n",
       "      <td>44</td>\n",
       "      <td>55</td>\n",
       "    </tr>\n",
       "    <tr>\n",
       "      <th>1</th>\n",
       "      <td>1</td>\n",
       "      <td>2</td>\n",
       "      <td>3</td>\n",
       "      <td>4</td>\n",
       "      <td>5</td>\n",
       "    </tr>\n",
       "  </tbody>\n",
       "</table>\n",
       "</div>"
      ],
      "text/plain": [
       "    0   1   2   3   4\n",
       "0  11  22  32  44  55\n",
       "1   1   2   3   4   5"
      ]
     },
     "execution_count": 13,
     "metadata": {},
     "output_type": "execute_result"
    }
   ],
   "source": [
    "DF1=pd.DataFrame(arr1)\n",
    "DF1"
   ]
  },
  {
   "cell_type": "code",
   "execution_count": 17,
   "id": "cd1f3897",
   "metadata": {},
   "outputs": [
    {
     "data": {
      "text/html": [
       "<div>\n",
       "<style scoped>\n",
       "    .dataframe tbody tr th:only-of-type {\n",
       "        vertical-align: middle;\n",
       "    }\n",
       "\n",
       "    .dataframe tbody tr th {\n",
       "        vertical-align: top;\n",
       "    }\n",
       "\n",
       "    .dataframe thead th {\n",
       "        text-align: right;\n",
       "    }\n",
       "</style>\n",
       "<table border=\"1\" class=\"dataframe\">\n",
       "  <thead>\n",
       "    <tr style=\"text-align: right;\">\n",
       "      <th></th>\n",
       "      <th>Maths</th>\n",
       "      <th>Science</th>\n",
       "      <th>English</th>\n",
       "      <th>Geo</th>\n",
       "      <th>Civics</th>\n",
       "    </tr>\n",
       "  </thead>\n",
       "  <tbody>\n",
       "    <tr>\n",
       "      <th>0</th>\n",
       "      <td>11</td>\n",
       "      <td>22</td>\n",
       "      <td>32</td>\n",
       "      <td>44</td>\n",
       "      <td>55</td>\n",
       "    </tr>\n",
       "    <tr>\n",
       "      <th>1</th>\n",
       "      <td>1</td>\n",
       "      <td>2</td>\n",
       "      <td>3</td>\n",
       "      <td>4</td>\n",
       "      <td>5</td>\n",
       "    </tr>\n",
       "  </tbody>\n",
       "</table>\n",
       "</div>"
      ],
      "text/plain": [
       "   Maths  Science  English  Geo  Civics\n",
       "0     11       22       32   44      55\n",
       "1      1        2        3    4       5"
      ]
     },
     "execution_count": 17,
     "metadata": {},
     "output_type": "execute_result"
    }
   ],
   "source": [
    "# using index and columns\n",
    "DF=pd.DataFrame(arr1,columns=['Maths','Science','English','Geo','Civics'])\n",
    "DF"
   ]
  },
  {
   "cell_type": "code",
   "execution_count": 18,
   "id": "3f287fbb",
   "metadata": {},
   "outputs": [
    {
     "data": {
      "text/html": [
       "<div>\n",
       "<style scoped>\n",
       "    .dataframe tbody tr th:only-of-type {\n",
       "        vertical-align: middle;\n",
       "    }\n",
       "\n",
       "    .dataframe tbody tr th {\n",
       "        vertical-align: top;\n",
       "    }\n",
       "\n",
       "    .dataframe thead th {\n",
       "        text-align: right;\n",
       "    }\n",
       "</style>\n",
       "<table border=\"1\" class=\"dataframe\">\n",
       "  <thead>\n",
       "    <tr style=\"text-align: right;\">\n",
       "      <th></th>\n",
       "      <th>Maths</th>\n",
       "      <th>Science</th>\n",
       "      <th>English</th>\n",
       "      <th>Geo</th>\n",
       "      <th>Civics</th>\n",
       "    </tr>\n",
       "  </thead>\n",
       "  <tbody>\n",
       "    <tr>\n",
       "      <th>Shyam</th>\n",
       "      <td>11</td>\n",
       "      <td>22</td>\n",
       "      <td>32</td>\n",
       "      <td>44</td>\n",
       "      <td>55</td>\n",
       "    </tr>\n",
       "    <tr>\n",
       "      <th>Ram</th>\n",
       "      <td>1</td>\n",
       "      <td>2</td>\n",
       "      <td>3</td>\n",
       "      <td>4</td>\n",
       "      <td>5</td>\n",
       "    </tr>\n",
       "  </tbody>\n",
       "</table>\n",
       "</div>"
      ],
      "text/plain": [
       "       Maths  Science  English  Geo  Civics\n",
       "Shyam     11       22       32   44      55\n",
       "Ram        1        2        3    4       5"
      ]
     },
     "execution_count": 18,
     "metadata": {},
     "output_type": "execute_result"
    }
   ],
   "source": [
    "DF=pd.DataFrame(arr1,index=['Shyam','Ram'],columns=['Maths','Science','English','Geo','Civics'])\n",
    "DF"
   ]
  },
  {
   "cell_type": "code",
   "execution_count": 20,
   "id": "3f3f780f",
   "metadata": {},
   "outputs": [
    {
     "data": {
      "text/html": [
       "<div>\n",
       "<style scoped>\n",
       "    .dataframe tbody tr th:only-of-type {\n",
       "        vertical-align: middle;\n",
       "    }\n",
       "\n",
       "    .dataframe tbody tr th {\n",
       "        vertical-align: top;\n",
       "    }\n",
       "\n",
       "    .dataframe thead th {\n",
       "        text-align: right;\n",
       "    }\n",
       "</style>\n",
       "<table border=\"1\" class=\"dataframe\">\n",
       "  <thead>\n",
       "    <tr style=\"text-align: right;\">\n",
       "      <th></th>\n",
       "      <th>0</th>\n",
       "    </tr>\n",
       "  </thead>\n",
       "  <tbody>\n",
       "    <tr>\n",
       "      <th>2012</th>\n",
       "      <td>205</td>\n",
       "    </tr>\n",
       "    <tr>\n",
       "      <th>2008</th>\n",
       "      <td>204</td>\n",
       "    </tr>\n",
       "    <tr>\n",
       "      <th>2004</th>\n",
       "      <td>201</td>\n",
       "    </tr>\n",
       "    <tr>\n",
       "      <th>2000</th>\n",
       "      <td>200</td>\n",
       "    </tr>\n",
       "    <tr>\n",
       "      <th>1996</th>\n",
       "      <td>197</td>\n",
       "    </tr>\n",
       "  </tbody>\n",
       "</table>\n",
       "</div>"
      ],
      "text/plain": [
       "        0\n",
       "2012  205\n",
       "2008  204\n",
       "2004  201\n",
       "2000  200\n",
       "1996  197"
      ]
     },
     "execution_count": 20,
     "metadata": {},
     "output_type": "execute_result"
    }
   ],
   "source": [
    "# Create a data frame using Series\n",
    "count = pd.Series([205,204,201,200,197],index=[2012,2008,2004,2000,1996])\n",
    "countDF = pd.DataFrame(count)\n",
    "countDF"
   ]
  },
  {
   "cell_type": "code",
   "execution_count": 21,
   "id": "d892806f",
   "metadata": {},
   "outputs": [],
   "source": [
    "count = pd.Series([205,204,201,200,197],index=[2012,2008,2004,2000,1996])\n",
    "host_city = pd.Series(['London','Beijing','Athens','Sydney','Atlanta'], index=[2012,2008,2004,2000,1996])\n"
   ]
  },
  {
   "cell_type": "code",
   "execution_count": 22,
   "id": "ead48ed8",
   "metadata": {},
   "outputs": [
    {
     "data": {
      "text/html": [
       "<div>\n",
       "<style scoped>\n",
       "    .dataframe tbody tr th:only-of-type {\n",
       "        vertical-align: middle;\n",
       "    }\n",
       "\n",
       "    .dataframe tbody tr th {\n",
       "        vertical-align: top;\n",
       "    }\n",
       "\n",
       "    .dataframe thead th {\n",
       "        text-align: right;\n",
       "    }\n",
       "</style>\n",
       "<table border=\"1\" class=\"dataframe\">\n",
       "  <thead>\n",
       "    <tr style=\"text-align: right;\">\n",
       "      <th></th>\n",
       "      <th>Count</th>\n",
       "      <th>City</th>\n",
       "    </tr>\n",
       "  </thead>\n",
       "  <tbody>\n",
       "    <tr>\n",
       "      <th>2012</th>\n",
       "      <td>205</td>\n",
       "      <td>London</td>\n",
       "    </tr>\n",
       "    <tr>\n",
       "      <th>2008</th>\n",
       "      <td>204</td>\n",
       "      <td>Beijing</td>\n",
       "    </tr>\n",
       "    <tr>\n",
       "      <th>2004</th>\n",
       "      <td>201</td>\n",
       "      <td>Athens</td>\n",
       "    </tr>\n",
       "    <tr>\n",
       "      <th>2000</th>\n",
       "      <td>200</td>\n",
       "      <td>Sydney</td>\n",
       "    </tr>\n",
       "    <tr>\n",
       "      <th>1996</th>\n",
       "      <td>197</td>\n",
       "      <td>Atlanta</td>\n",
       "    </tr>\n",
       "  </tbody>\n",
       "</table>\n",
       "</div>"
      ],
      "text/plain": [
       "      Count     City\n",
       "2012    205   London\n",
       "2008    204  Beijing\n",
       "2004    201   Athens\n",
       "2000    200   Sydney\n",
       "1996    197  Atlanta"
      ]
     },
     "execution_count": 22,
     "metadata": {},
     "output_type": "execute_result"
    }
   ],
   "source": [
    "DF2=pd.DataFrame({'Count':count,'City':host_city})\n",
    "DF2"
   ]
  },
  {
   "cell_type": "code",
   "execution_count": 23,
   "id": "3ebeb49e",
   "metadata": {},
   "outputs": [
    {
     "data": {
      "text/html": [
       "<div>\n",
       "<style scoped>\n",
       "    .dataframe tbody tr th:only-of-type {\n",
       "        vertical-align: middle;\n",
       "    }\n",
       "\n",
       "    .dataframe tbody tr th {\n",
       "        vertical-align: top;\n",
       "    }\n",
       "\n",
       "    .dataframe thead th {\n",
       "        text-align: right;\n",
       "    }\n",
       "</style>\n",
       "<table border=\"1\" class=\"dataframe\">\n",
       "  <thead>\n",
       "    <tr style=\"text-align: right;\">\n",
       "      <th></th>\n",
       "      <th>Count</th>\n",
       "    </tr>\n",
       "  </thead>\n",
       "  <tbody>\n",
       "    <tr>\n",
       "      <th>count</th>\n",
       "      <td>5.000000</td>\n",
       "    </tr>\n",
       "    <tr>\n",
       "      <th>mean</th>\n",
       "      <td>201.400000</td>\n",
       "    </tr>\n",
       "    <tr>\n",
       "      <th>std</th>\n",
       "      <td>3.209361</td>\n",
       "    </tr>\n",
       "    <tr>\n",
       "      <th>min</th>\n",
       "      <td>197.000000</td>\n",
       "    </tr>\n",
       "    <tr>\n",
       "      <th>25%</th>\n",
       "      <td>200.000000</td>\n",
       "    </tr>\n",
       "    <tr>\n",
       "      <th>50%</th>\n",
       "      <td>201.000000</td>\n",
       "    </tr>\n",
       "    <tr>\n",
       "      <th>75%</th>\n",
       "      <td>204.000000</td>\n",
       "    </tr>\n",
       "    <tr>\n",
       "      <th>max</th>\n",
       "      <td>205.000000</td>\n",
       "    </tr>\n",
       "  </tbody>\n",
       "</table>\n",
       "</div>"
      ],
      "text/plain": [
       "            Count\n",
       "count    5.000000\n",
       "mean   201.400000\n",
       "std      3.209361\n",
       "min    197.000000\n",
       "25%    200.000000\n",
       "50%    201.000000\n",
       "75%    204.000000\n",
       "max    205.000000"
      ]
     },
     "execution_count": 23,
     "metadata": {},
     "output_type": "execute_result"
    }
   ],
   "source": [
    "DF2.describe()"
   ]
  },
  {
   "cell_type": "code",
   "execution_count": 24,
   "id": "40e42730",
   "metadata": {},
   "outputs": [
    {
     "data": {
      "text/plain": [
       "Count    5\n",
       "City     5\n",
       "dtype: int64"
      ]
     },
     "execution_count": 24,
     "metadata": {},
     "output_type": "execute_result"
    }
   ],
   "source": [
    "DF2.count()"
   ]
  },
  {
   "cell_type": "markdown",
   "id": "9a186fc5",
   "metadata": {},
   "source": [
    "#### Handling Missing Values\n",
    "- Data may not be provided by source\n",
    "- Network issue\n",
    "- Various sources \n",
    "- Software issue\n",
    "- Data formatting/encoding"
   ]
  },
  {
   "cell_type": "code",
   "execution_count": 26,
   "id": "b5ebce52",
   "metadata": {},
   "outputs": [
    {
     "data": {
      "text/plain": [
       "a    NaN\n",
       "b    NaN\n",
       "c    4.0\n",
       "d    NaN\n",
       "e    7.0\n",
       "f    NaN\n",
       "g    NaN\n",
       "h    NaN\n",
       "dtype: float64"
      ]
     },
     "execution_count": 26,
     "metadata": {},
     "output_type": "execute_result"
    }
   ],
   "source": [
    "seriesA = pd.Series([1,2,3,4,5] , index=['a','b','c','d','e'])\n",
    "seriesC = pd.Series([1,2,3,4,5] , index=['c','e','f','g','h'])\n",
    "sum1 = seriesA + seriesC\n",
    "sum1"
   ]
  },
  {
   "cell_type": "code",
   "execution_count": 27,
   "id": "d2b88f16",
   "metadata": {},
   "outputs": [
    {
     "data": {
      "text/plain": [
       "c    4.0\n",
       "e    7.0\n",
       "dtype: float64"
      ]
     },
     "execution_count": 27,
     "metadata": {},
     "output_type": "execute_result"
    }
   ],
   "source": [
    "sum1_na=sum1.dropna()\n",
    "sum1_na"
   ]
  },
  {
   "cell_type": "code",
   "execution_count": 30,
   "id": "8161eb2a",
   "metadata": {},
   "outputs": [
    {
     "data": {
      "text/plain": [
       "a    356.0\n",
       "b    356.0\n",
       "c      4.0\n",
       "d    356.0\n",
       "e      7.0\n",
       "f    356.0\n",
       "g    356.0\n",
       "h    356.0\n",
       "dtype: float64"
      ]
     },
     "execution_count": 30,
     "metadata": {},
     "output_type": "execute_result"
    }
   ],
   "source": [
    "# fillna() to rplace NAN values with the desired values\n",
    "sum1.fillna(356)"
   ]
  },
  {
   "cell_type": "code",
   "execution_count": 32,
   "id": "31f19209",
   "metadata": {},
   "outputs": [
    {
     "data": {
      "text/plain": [
       "a    5.5\n",
       "b    5.5\n",
       "c    4.0\n",
       "d    5.5\n",
       "e    7.0\n",
       "f    5.5\n",
       "g    5.5\n",
       "h    5.5\n",
       "dtype: float64"
      ]
     },
     "execution_count": 32,
     "metadata": {},
     "output_type": "execute_result"
    }
   ],
   "source": [
    "sum1.fillna(sum1.mean())"
   ]
  },
  {
   "cell_type": "code",
   "execution_count": 33,
   "id": "6b0aa197",
   "metadata": {},
   "outputs": [
    {
     "data": {
      "text/plain": [
       "a    5.5\n",
       "b    5.5\n",
       "c    4.0\n",
       "d    5.5\n",
       "e    7.0\n",
       "f    5.5\n",
       "g    5.5\n",
       "h    5.5\n",
       "dtype: float64"
      ]
     },
     "execution_count": 33,
     "metadata": {},
     "output_type": "execute_result"
    }
   ],
   "source": [
    "sum1.fillna(sum1.median())"
   ]
  },
  {
   "cell_type": "markdown",
   "id": "98b539b3",
   "metadata": {},
   "source": [
    "# Group by"
   ]
  },
  {
   "cell_type": "code",
   "execution_count": 34,
   "id": "c9e62695",
   "metadata": {},
   "outputs": [
    {
     "data": {
      "text/html": [
       "<div>\n",
       "<style scoped>\n",
       "    .dataframe tbody tr th:only-of-type {\n",
       "        vertical-align: middle;\n",
       "    }\n",
       "\n",
       "    .dataframe tbody tr th {\n",
       "        vertical-align: top;\n",
       "    }\n",
       "\n",
       "    .dataframe thead th {\n",
       "        text-align: right;\n",
       "    }\n",
       "</style>\n",
       "<table border=\"1\" class=\"dataframe\">\n",
       "  <thead>\n",
       "    <tr style=\"text-align: right;\">\n",
       "      <th></th>\n",
       "      <th>first</th>\n",
       "      <th>second</th>\n",
       "    </tr>\n",
       "  </thead>\n",
       "  <tbody>\n",
       "    <tr>\n",
       "      <th>0</th>\n",
       "      <td>George</td>\n",
       "      <td>Bush</td>\n",
       "    </tr>\n",
       "    <tr>\n",
       "      <th>1</th>\n",
       "      <td>Bill</td>\n",
       "      <td>Clinton</td>\n",
       "    </tr>\n",
       "    <tr>\n",
       "      <th>2</th>\n",
       "      <td>Ronald</td>\n",
       "      <td>Reagan</td>\n",
       "    </tr>\n",
       "    <tr>\n",
       "      <th>3</th>\n",
       "      <td>Jimmy</td>\n",
       "      <td>Carter</td>\n",
       "    </tr>\n",
       "    <tr>\n",
       "      <th>4</th>\n",
       "      <td>George</td>\n",
       "      <td>Washington</td>\n",
       "    </tr>\n",
       "  </tbody>\n",
       "</table>\n",
       "</div>"
      ],
      "text/plain": [
       "    first      second\n",
       "0  George        Bush\n",
       "1    Bill     Clinton\n",
       "2  Ronald      Reagan\n",
       "3   Jimmy      Carter\n",
       "4  George  Washington"
      ]
     },
     "execution_count": 34,
     "metadata": {},
     "output_type": "execute_result"
    }
   ],
   "source": [
    "df_name = pd.DataFrame({'first':['George','Bill','Ronald','Jimmy','George'],\n",
    "                        'second':['Bush','Clinton','Reagan','Carter','Washington']})\n",
    "df_name"
   ]
  },
  {
   "cell_type": "code",
   "execution_count": 35,
   "id": "ca74b767",
   "metadata": {},
   "outputs": [
    {
     "data": {
      "text/plain": [
       "<pandas.core.groupby.generic.DataFrameGroupBy object at 0x000001DC75A6E550>"
      ]
     },
     "execution_count": 35,
     "metadata": {},
     "output_type": "execute_result"
    }
   ],
   "source": [
    "grouped=df_name.groupby('first')\n",
    "grouped"
   ]
  },
  {
   "cell_type": "code",
   "execution_count": 36,
   "id": "60820c3a",
   "metadata": {},
   "outputs": [
    {
     "data": {
      "text/plain": [
       "first\n",
       "Bill      1\n",
       "George    2\n",
       "Jimmy     1\n",
       "Ronald    1\n",
       "dtype: int64"
      ]
     },
     "execution_count": 36,
     "metadata": {},
     "output_type": "execute_result"
    }
   ],
   "source": [
    "grouped.size()"
   ]
  },
  {
   "cell_type": "code",
   "execution_count": 37,
   "id": "3ac952c8",
   "metadata": {},
   "outputs": [
    {
     "data": {
      "text/html": [
       "<div>\n",
       "<style scoped>\n",
       "    .dataframe tbody tr th:only-of-type {\n",
       "        vertical-align: middle;\n",
       "    }\n",
       "\n",
       "    .dataframe tbody tr th {\n",
       "        vertical-align: top;\n",
       "    }\n",
       "\n",
       "    .dataframe thead th {\n",
       "        text-align: right;\n",
       "    }\n",
       "</style>\n",
       "<table border=\"1\" class=\"dataframe\">\n",
       "  <thead>\n",
       "    <tr style=\"text-align: right;\">\n",
       "      <th></th>\n",
       "      <th>first</th>\n",
       "      <th>second</th>\n",
       "    </tr>\n",
       "  </thead>\n",
       "  <tbody>\n",
       "    <tr>\n",
       "      <th>0</th>\n",
       "      <td>George</td>\n",
       "      <td>Bush</td>\n",
       "    </tr>\n",
       "    <tr>\n",
       "      <th>4</th>\n",
       "      <td>George</td>\n",
       "      <td>Washington</td>\n",
       "    </tr>\n",
       "  </tbody>\n",
       "</table>\n",
       "</div>"
      ],
      "text/plain": [
       "    first      second\n",
       "0  George        Bush\n",
       "4  George  Washington"
      ]
     },
     "execution_count": 37,
     "metadata": {},
     "output_type": "execute_result"
    }
   ],
   "source": [
    "grp_data=grouped.get_group('George')\n",
    "grp_data"
   ]
  },
  {
   "cell_type": "markdown",
   "id": "eee1bc9c",
   "metadata": {},
   "source": [
    "# Analysis in data visualization:\n",
    "\n",
    "Univariate Analysis-Histogram, Line Chart, Boxplot, displot\n",
    "\n",
    "Bi- Variate Analysis - Scatter plot, line chart, bar chart, regression plot, join plot\n",
    "\n",
    "Multivariate Analysis- Heatmap, pie chart, area chart, tree map, pair plot"
   ]
  },
  {
   "cell_type": "markdown",
   "id": "bdd0ffc0",
   "metadata": {},
   "source": [
    "Matplotlib is a low level graph plotting library in python that serves as a visualization utility."
   ]
  },
  {
   "cell_type": "code",
   "execution_count": 2,
   "id": "90c319ed",
   "metadata": {},
   "outputs": [],
   "source": [
    "import matplotlib.pyplot as plt"
   ]
  },
  {
   "cell_type": "code",
   "execution_count": 42,
   "id": "4ee1caf7",
   "metadata": {},
   "outputs": [
    {
     "data": {
      "text/plain": [
       "array([ 13,  20,  43,   5,  27,  64,  57,  18, 100,   8])"
      ]
     },
     "execution_count": 42,
     "metadata": {},
     "output_type": "execute_result"
    }
   ],
   "source": [
    "# plot function\n",
    "import numpy as np\n",
    "random_no = np.random.randint(0,101,10)\n",
    "random_no"
   ]
  },
  {
   "cell_type": "code",
   "execution_count": 43,
   "id": "b617e4b4",
   "metadata": {},
   "outputs": [
    {
     "data": {
      "image/png": "[encoded data removed]",
      "text/plain": [
       "<Figure size 432x288 with 1 Axes>"
      ]
     },
     "metadata": {
      "needs_background": "light"
     },
     "output_type": "display_data"
    }
   ],
   "source": [
    "plt.plot(random_no)\n",
    "plt.show()"
   ]
  },
  {
   "cell_type": "code",
   "execution_count": 44,
   "id": "f1bb6f00",
   "metadata": {},
   "outputs": [
    {
     "data": {
      "image/png": "[encoded data removed]",
      "text/plain": [
       "<Figure size 432x288 with 1 Axes>"
      ]
     },
     "metadata": {
      "needs_background": "light"
     },
     "output_type": "display_data"
    }
   ],
   "source": [
    "plt.plot(random_no)\n",
    "plt.xlabel('X axis')\n",
    "plt.ylabel('Y axis')\n",
    "plt.title('Line Chart')\n",
    "plt.show()\n"
   ]
  },
  {
   "cell_type": "code",
   "execution_count": 48,
   "id": "319215ec",
   "metadata": {},
   "outputs": [
    {
     "data": {
      "image/png": "[encoded data removed]",
      "text/plain": [
       "<Figure size 432x288 with 1 Axes>"
      ]
     },
     "metadata": {
      "needs_background": "light"
     },
     "output_type": "display_data"
    }
   ],
   "source": [
    "# plot function formating\n",
    "plt.plot(random_no,color='green',linewidth=3,linestyle='--',marker='*',markersize=12)\n",
    "plt.xlabel('X axis')\n",
    "plt.ylabel('Y axis')\n",
    "plt.title('Line Chart')\n",
    "plt.show()"
   ]
  },
  {
   "cell_type": "code",
   "execution_count": 50,
   "id": "7883990a",
   "metadata": {},
   "outputs": [
    {
     "data": {
      "image/png": "[encoded data removed]",
      "text/plain": [
       "<Figure size 432x288 with 1 Axes>"
      ]
     },
     "metadata": {
      "needs_background": "light"
     },
     "output_type": "display_data"
    }
   ],
   "source": [
    "# Line chart of two variables\n",
    "web_customers=[123,345,670,678,890,567]\n",
    "time_hrs=[7,8,9,10,11,12]\n",
    "plt.plot(web_customers,time_hrs,color='g',linewidth=2)\n",
    "plt.show()"
   ]
  },
  {
   "cell_type": "code",
   "execution_count": 51,
   "id": "1b0cec1d",
   "metadata": {},
   "outputs": [
    {
     "data": {
      "image/png": "[encoded data removed]",
      "text/plain": [
       "<Figure size 432x288 with 1 Axes>"
      ]
     },
     "metadata": {
      "needs_background": "light"
     },
     "output_type": "display_data"
    }
   ],
   "source": [
    "plt.plot(time_hrs,web_customers,color='m',linewidth=3,linestyle=':',marker='o',markersize=10)\n",
    "plt.xlabel('web_customers')\n",
    "plt.ylabel('time_hrs')\n",
    "plt.title('Web Traffic')\n",
    "\n",
    "plt.show()\n"
   ]
  },
  {
   "cell_type": "code",
   "execution_count": 1,
   "id": "3643edf7",
   "metadata": {},
   "outputs": [],
   "source": [
    "web_Monday=[123,345,670,678,890,567]\n",
    "web_Tuesday=[134,234,765,987,432,789]\n",
    "web_Wednesday=[345,234,564,987,908,900]\n",
    "time_hrs=[7,8,9,10,11,12]"
   ]
  },
  {
   "cell_type": "code",
   "execution_count": 9,
   "id": "93f71a45",
   "metadata": {},
   "outputs": [
    {
     "data": {
      "image/png": "[encoded data removed]",
      "text/plain": [
       "<Figure size 720x360 with 1 Axes>"
      ]
     },
     "metadata": {
      "needs_background": "light"
     },
     "output_type": "display_data"
    }
   ],
   "source": [
    "plt.figure(figsize=(10,5))\n",
    "plt.plot(time_hrs,web_Monday,color='g',linestyle=':',linewidth=3,marker='o',markersize=10,label='Monday')\n",
    "plt.plot(time_hrs,web_Tuesday,color='r',linewidth=3,linestyle=':',marker='o',markersize=10,label='Tuesday')\n",
    "plt.plot(time_hrs,web_Wednesday,color='m',linewidth=3,linestyle=':',marker='o',markersize=10,label='Wednesday')\n",
    "plt.xlabel('web_customers by day')\n",
    "plt.ylabel('time_hrs')\n",
    "plt.title('Web Traffic')\n",
    "plt.legend()\n",
    "plt.show()"
   ]
  },
  {
   "cell_type": "code",
   "execution_count": 17,
   "id": "ec9dcaeb",
   "metadata": {},
   "outputs": [
    {
     "data": {
      "text/plain": [
       "Text(0.5, 1.0, 'Web Traffic')"
      ]
     },
     "execution_count": 17,
     "metadata": {},
     "output_type": "execute_result"
    },
    {
     "data": {
      "image/png": "[encoded data removed]",
      "text/plain": [
       "<Figure size 432x288 with 1 Axes>"
      ]
     },
     "metadata": {
      "needs_background": "light"
     },
     "output_type": "display_data"
    }
   ],
   "source": [
    "web_customers=[123,345,670,678,890,567]\n",
    "time_hrs=[7,8,9,10,11,12]\n",
    "plt.scatter(time_hrs,web_customers,color='g',s=web_customers) # s is for size of dots.\n",
    "plt.xlabel('web_customers')\n",
    "plt.ylabel('time_hrs')\n",
    "plt.title('Web Traffic')"
   ]
  },
  {
   "cell_type": "code",
   "execution_count": 18,
   "id": "49ed20fb",
   "metadata": {},
   "outputs": [],
   "source": [
    "web_Monday=[123,345,670,678,890,567]\n",
    "web_Tuesday=[134,234,765,987,432,789]\n",
    "web_Wednesday=[345,234,564,987,908,900]\n",
    "time_hrs=[7,8,9,10,11,12]"
   ]
  },
  {
   "cell_type": "code",
   "execution_count": 21,
   "id": "67202108",
   "metadata": {},
   "outputs": [
    {
     "data": {
      "text/plain": [
       "<matplotlib.legend.Legend at 0x14be9106a90>"
      ]
     },
     "execution_count": 21,
     "metadata": {},
     "output_type": "execute_result"
    },
    {
     "data": {
      "image/png": "[encoded data removed]",
      "text/plain": [
       "<Figure size 720x360 with 1 Axes>"
      ]
     },
     "metadata": {
      "needs_background": "light"
     },
     "output_type": "display_data"
    }
   ],
   "source": [
    "plt.figure(figsize=(10,5))\n",
    "plt.scatter(time_hrs,web_Monday,color='pink',s=web_Monday,label='Monday')\n",
    "plt.scatter(time_hrs,web_Tuesday,color='b',s=web_Tuesday,label='Tuesday')\n",
    "plt.scatter(time_hrs,web_Wednesday,color='g',s=web_Wednesday,label='Wednesday')\n",
    "plt.xlabel('web_customers')\n",
    "plt.ylabel('time_hrs')\n",
    "plt.title('Web Traffic')\n",
    "plt.legend()"
   ]
  },
  {
   "cell_type": "code",
   "execution_count": 31,
   "id": "c89e85f5",
   "metadata": {},
   "outputs": [
    {
     "data": {
      "image/png": "[encoded data removed]",
      "text/plain": [
       "<Figure size 720x360 with 1 Axes>"
      ]
     },
     "metadata": {
      "needs_background": "light"
     },
     "output_type": "display_data"
    }
   ],
   "source": [
    "# Bar plot\n",
    "import numpy as np\n",
    "X= np.array(['A','B','C','D','E'])\n",
    "Y= np.array([3,8,9,45,36])\n",
    "plt.figure(figsize=(10,5))\n",
    "plt.bar(X,Y,color='pink',alpha=0.5) # alpha = intensity of color\n",
    "plt.show()"
   ]
  },
  {
   "cell_type": "code",
   "execution_count": 32,
   "id": "a92a0dd8",
   "metadata": {},
   "outputs": [
    {
     "data": {
      "text/plain": [
       "array([ 0.98377092,  1.70837744,  0.25424125,  0.46006196, -1.51708087,\n",
       "        1.51017298,  0.1802592 ,  0.43729583, -1.09677955,  0.49658282,\n",
       "       -0.84707248,  0.2524611 ,  1.45428495, -1.29770012, -1.1946847 ,\n",
       "        1.0905932 , -0.19594529, -0.0986519 , -0.01647346,  1.09303371,\n",
       "        0.42238566, -1.88120725,  0.68327707, -0.58300434,  0.33821203,\n",
       "        0.86807241,  0.72111818, -0.52232221,  0.28455549,  1.19237627,\n",
       "        2.27341555, -2.96187452, -1.12996132,  0.03924804,  1.88835839,\n",
       "       -1.25376308, -1.99774937, -1.90232983,  0.40511772,  2.33337451,\n",
       "       -1.79731597, -0.64535571, -0.44497331,  1.45235602, -1.21851237,\n",
       "        1.53855719,  0.45327696, -0.5726691 ,  0.47387464, -1.762995  ])"
      ]
     },
     "execution_count": 32,
     "metadata": {},
     "output_type": "execute_result"
    }
   ],
   "source": [
    "# Create Histogram\n",
    "x_rand=np.random.randn(50)\n",
    "x_rand"
   ]
  },
  {
   "cell_type": "code",
   "execution_count": 34,
   "id": "f0334023",
   "metadata": {},
   "outputs": [
    {
     "data": {
      "image/png": "[encoded data removed]",
      "text/plain": [
       "<Figure size 720x360 with 1 Axes>"
      ]
     },
     "metadata": {
      "needs_background": "light"
     },
     "output_type": "display_data"
    }
   ],
   "source": [
    "plt.figure(figsize=(10,5))\n",
    "plt.hist(x_rand,bins=20,edgecolor='white')\n",
    "plt.show()"
   ]
  },
  {
   "cell_type": "code",
   "execution_count": 37,
   "id": "26349988",
   "metadata": {},
   "outputs": [
    {
     "data": {
      "image/png": "[encoded data removed]",
      "text/plain": [
       "<Figure size 720x360 with 4 Axes>"
      ]
     },
     "metadata": {
      "needs_background": "light"
     },
     "output_type": "display_data"
    }
   ],
   "source": [
    "# subplot\n",
    "X= np.array(['A','B','C','D','E'])\n",
    "Y= np.array([3,8,9,45,36])\n",
    "plt.figure(figsize=(10,5)) # size of graph\n",
    "plt.subplots_adjust(hspace=0.5,wspace=0.2)\n",
    "plt.subplot(2,2,1)\n",
    "plt.plot(X,Y,color='g')\n",
    "plt.title('Line chart')\n",
    "plt.subplot(2,2,2)\n",
    "plt.bar(X,Y,color='pink')\n",
    "plt.title('Bar chart')\n",
    "plt.subplot(2,2,3)\n",
    "plt.hist(Y,bins=8)\n",
    "plt.title('Histogram')\n",
    "plt.subplot(2,2,4)\n",
    "plt.plot(X,Y,color='y')\n",
    "plt.show()"
   ]
  },
  {
   "cell_type": "code",
   "execution_count": 12,
   "id": "732ef885",
   "metadata": {},
   "outputs": [
    {
     "data": {
      "image/png": "[encoded data removed]",
      "text/plain": [
       "<Figure size 432x288 with 1 Axes>"
      ]
     },
     "metadata": {},
     "output_type": "display_data"
    }
   ],
   "source": [
    "# pie chart\n",
    "import matplotlib.pyplot as plt\n",
    "cause=['Chronic dis','corona','cancer','xyz']\n",
    "percent=[62,40,30,20]\n",
    "plt.pie(percent,labels=cause,explode=(0.05,0.05,0.05,0),autopct='%1.1f%%')\n",
    "plt.show()"
   ]
  },
  {
   "cell_type": "code",
   "execution_count": 13,
   "id": "c385c174",
   "metadata": {},
   "outputs": [],
   "source": [
    "import seaborn as sns"
   ]
  },
  {
   "cell_type": "code",
   "execution_count": 15,
   "id": "683156c6",
   "metadata": {},
   "outputs": [
    {
     "data": {
      "text/html": [
       "<div>\n",
       "<style scoped>\n",
       "    .dataframe tbody tr th:only-of-type {\n",
       "        vertical-align: middle;\n",
       "    }\n",
       "\n",
       "    .dataframe tbody tr th {\n",
       "        vertical-align: top;\n",
       "    }\n",
       "\n",
       "    .dataframe thead th {\n",
       "        text-align: right;\n",
       "    }\n",
       "</style>\n",
       "<table border=\"1\" class=\"dataframe\">\n",
       "  <thead>\n",
       "    <tr style=\"text-align: right;\">\n",
       "      <th></th>\n",
       "      <th>total_bill</th>\n",
       "      <th>tip</th>\n",
       "      <th>sex</th>\n",
       "      <th>smoker</th>\n",
       "      <th>day</th>\n",
       "      <th>time</th>\n",
       "      <th>size</th>\n",
       "    </tr>\n",
       "  </thead>\n",
       "  <tbody>\n",
       "    <tr>\n",
       "      <th>0</th>\n",
       "      <td>16.99</td>\n",
       "      <td>1.01</td>\n",
       "      <td>Female</td>\n",
       "      <td>No</td>\n",
       "      <td>Sun</td>\n",
       "      <td>Dinner</td>\n",
       "      <td>2</td>\n",
       "    </tr>\n",
       "    <tr>\n",
       "      <th>1</th>\n",
       "      <td>10.34</td>\n",
       "      <td>1.66</td>\n",
       "      <td>Male</td>\n",
       "      <td>No</td>\n",
       "      <td>Sun</td>\n",
       "      <td>Dinner</td>\n",
       "      <td>3</td>\n",
       "    </tr>\n",
       "    <tr>\n",
       "      <th>2</th>\n",
       "      <td>21.01</td>\n",
       "      <td>3.50</td>\n",
       "      <td>Male</td>\n",
       "      <td>No</td>\n",
       "      <td>Sun</td>\n",
       "      <td>Dinner</td>\n",
       "      <td>3</td>\n",
       "    </tr>\n",
       "    <tr>\n",
       "      <th>3</th>\n",
       "      <td>23.68</td>\n",
       "      <td>3.31</td>\n",
       "      <td>Male</td>\n",
       "      <td>No</td>\n",
       "      <td>Sun</td>\n",
       "      <td>Dinner</td>\n",
       "      <td>2</td>\n",
       "    </tr>\n",
       "    <tr>\n",
       "      <th>4</th>\n",
       "      <td>24.59</td>\n",
       "      <td>3.61</td>\n",
       "      <td>Female</td>\n",
       "      <td>No</td>\n",
       "      <td>Sun</td>\n",
       "      <td>Dinner</td>\n",
       "      <td>4</td>\n",
       "    </tr>\n",
       "    <tr>\n",
       "      <th>...</th>\n",
       "      <td>...</td>\n",
       "      <td>...</td>\n",
       "      <td>...</td>\n",
       "      <td>...</td>\n",
       "      <td>...</td>\n",
       "      <td>...</td>\n",
       "      <td>...</td>\n",
       "    </tr>\n",
       "    <tr>\n",
       "      <th>239</th>\n",
       "      <td>29.03</td>\n",
       "      <td>5.92</td>\n",
       "      <td>Male</td>\n",
       "      <td>No</td>\n",
       "      <td>Sat</td>\n",
       "      <td>Dinner</td>\n",
       "      <td>3</td>\n",
       "    </tr>\n",
       "    <tr>\n",
       "      <th>240</th>\n",
       "      <td>27.18</td>\n",
       "      <td>2.00</td>\n",
       "      <td>Female</td>\n",
       "      <td>Yes</td>\n",
       "      <td>Sat</td>\n",
       "      <td>Dinner</td>\n",
       "      <td>2</td>\n",
       "    </tr>\n",
       "    <tr>\n",
       "      <th>241</th>\n",
       "      <td>22.67</td>\n",
       "      <td>2.00</td>\n",
       "      <td>Male</td>\n",
       "      <td>Yes</td>\n",
       "      <td>Sat</td>\n",
       "      <td>Dinner</td>\n",
       "      <td>2</td>\n",
       "    </tr>\n",
       "    <tr>\n",
       "      <th>242</th>\n",
       "      <td>17.82</td>\n",
       "      <td>1.75</td>\n",
       "      <td>Male</td>\n",
       "      <td>No</td>\n",
       "      <td>Sat</td>\n",
       "      <td>Dinner</td>\n",
       "      <td>2</td>\n",
       "    </tr>\n",
       "    <tr>\n",
       "      <th>243</th>\n",
       "      <td>18.78</td>\n",
       "      <td>3.00</td>\n",
       "      <td>Female</td>\n",
       "      <td>No</td>\n",
       "      <td>Thur</td>\n",
       "      <td>Dinner</td>\n",
       "      <td>2</td>\n",
       "    </tr>\n",
       "  </tbody>\n",
       "</table>\n",
       "<p>244 rows × 7 columns</p>\n",
       "</div>"
      ],
      "text/plain": [
       "     total_bill   tip     sex smoker   day    time  size\n",
       "0         16.99  1.01  Female     No   Sun  Dinner     2\n",
       "1         10.34  1.66    Male     No   Sun  Dinner     3\n",
       "2         21.01  3.50    Male     No   Sun  Dinner     3\n",
       "3         23.68  3.31    Male     No   Sun  Dinner     2\n",
       "4         24.59  3.61  Female     No   Sun  Dinner     4\n",
       "..          ...   ...     ...    ...   ...     ...   ...\n",
       "239       29.03  5.92    Male     No   Sat  Dinner     3\n",
       "240       27.18  2.00  Female    Yes   Sat  Dinner     2\n",
       "241       22.67  2.00    Male    Yes   Sat  Dinner     2\n",
       "242       17.82  1.75    Male     No   Sat  Dinner     2\n",
       "243       18.78  3.00  Female     No  Thur  Dinner     2\n",
       "\n",
       "[244 rows x 7 columns]"
      ]
     },
     "execution_count": 15,
     "metadata": {},
     "output_type": "execute_result"
    }
   ],
   "source": [
    "# seaborn already inbuild dataset\n",
    "D = sns.load_dataset('tips')\n",
    "D"
   ]
  },
  {
   "cell_type": "code",
   "execution_count": 17,
   "id": "9ac0386b",
   "metadata": {},
   "outputs": [
    {
     "data": {
      "text/plain": [
       "(244, 7)"
      ]
     },
     "execution_count": 17,
     "metadata": {},
     "output_type": "execute_result"
    }
   ],
   "source": [
    "D.shape"
   ]
  },
  {
   "cell_type": "code",
   "execution_count": 18,
   "id": "4c08ff0e",
   "metadata": {},
   "outputs": [
    {
     "name": "stdout",
     "output_type": "stream",
     "text": [
      "<class 'pandas.core.frame.DataFrame'>\n",
      "RangeIndex: 244 entries, 0 to 243\n",
      "Data columns (total 7 columns):\n",
      " #   Column      Non-Null Count  Dtype   \n",
      "---  ------      --------------  -----   \n",
      " 0   total_bill  244 non-null    float64 \n",
      " 1   tip         244 non-null    float64 \n",
      " 2   sex         244 non-null    category\n",
      " 3   smoker      244 non-null    category\n",
      " 4   day         244 non-null    category\n",
      " 5   time        244 non-null    category\n",
      " 6   size        244 non-null    int64   \n",
      "dtypes: category(4), float64(2), int64(1)\n",
      "memory usage: 7.4 KB\n"
     ]
    }
   ],
   "source": [
    "D.info()"
   ]
  },
  {
   "cell_type": "code",
   "execution_count": 21,
   "id": "fbcf105f",
   "metadata": {},
   "outputs": [
    {
     "data": {
      "text/plain": [
       "total_bill    0\n",
       "tip           0\n",
       "sex           0\n",
       "smoker        0\n",
       "day           0\n",
       "time          0\n",
       "size          0\n",
       "dtype: int64"
      ]
     },
     "execution_count": 21,
     "metadata": {},
     "output_type": "execute_result"
    }
   ],
   "source": [
    "D.isnull().sum()"
   ]
  },
  {
   "cell_type": "code",
   "execution_count": 22,
   "id": "9899e00e",
   "metadata": {},
   "outputs": [
    {
     "data": {
      "text/html": [
       "<div>\n",
       "<style scoped>\n",
       "    .dataframe tbody tr th:only-of-type {\n",
       "        vertical-align: middle;\n",
       "    }\n",
       "\n",
       "    .dataframe tbody tr th {\n",
       "        vertical-align: top;\n",
       "    }\n",
       "\n",
       "    .dataframe thead th {\n",
       "        text-align: right;\n",
       "    }\n",
       "</style>\n",
       "<table border=\"1\" class=\"dataframe\">\n",
       "  <thead>\n",
       "    <tr style=\"text-align: right;\">\n",
       "      <th></th>\n",
       "      <th>total_bill</th>\n",
       "      <th>tip</th>\n",
       "      <th>size</th>\n",
       "    </tr>\n",
       "  </thead>\n",
       "  <tbody>\n",
       "    <tr>\n",
       "      <th>count</th>\n",
       "      <td>244.000000</td>\n",
       "      <td>244.000000</td>\n",
       "      <td>244.000000</td>\n",
       "    </tr>\n",
       "    <tr>\n",
       "      <th>mean</th>\n",
       "      <td>19.785943</td>\n",
       "      <td>2.998279</td>\n",
       "      <td>2.569672</td>\n",
       "    </tr>\n",
       "    <tr>\n",
       "      <th>std</th>\n",
       "      <td>8.902412</td>\n",
       "      <td>1.383638</td>\n",
       "      <td>0.951100</td>\n",
       "    </tr>\n",
       "    <tr>\n",
       "      <th>min</th>\n",
       "      <td>3.070000</td>\n",
       "      <td>1.000000</td>\n",
       "      <td>1.000000</td>\n",
       "    </tr>\n",
       "    <tr>\n",
       "      <th>25%</th>\n",
       "      <td>13.347500</td>\n",
       "      <td>2.000000</td>\n",
       "      <td>2.000000</td>\n",
       "    </tr>\n",
       "    <tr>\n",
       "      <th>50%</th>\n",
       "      <td>17.795000</td>\n",
       "      <td>2.900000</td>\n",
       "      <td>2.000000</td>\n",
       "    </tr>\n",
       "    <tr>\n",
       "      <th>75%</th>\n",
       "      <td>24.127500</td>\n",
       "      <td>3.562500</td>\n",
       "      <td>3.000000</td>\n",
       "    </tr>\n",
       "    <tr>\n",
       "      <th>max</th>\n",
       "      <td>50.810000</td>\n",
       "      <td>10.000000</td>\n",
       "      <td>6.000000</td>\n",
       "    </tr>\n",
       "  </tbody>\n",
       "</table>\n",
       "</div>"
      ],
      "text/plain": [
       "       total_bill         tip        size\n",
       "count  244.000000  244.000000  244.000000\n",
       "mean    19.785943    2.998279    2.569672\n",
       "std      8.902412    1.383638    0.951100\n",
       "min      3.070000    1.000000    1.000000\n",
       "25%     13.347500    2.000000    2.000000\n",
       "50%     17.795000    2.900000    2.000000\n",
       "75%     24.127500    3.562500    3.000000\n",
       "max     50.810000   10.000000    6.000000"
      ]
     },
     "execution_count": 22,
     "metadata": {},
     "output_type": "execute_result"
    }
   ],
   "source": [
    "D.describe()"
   ]
  },
  {
   "cell_type": "code",
   "execution_count": 24,
   "id": "d3b648d1",
   "metadata": {},
   "outputs": [
    {
     "data": {
      "text/plain": [
       "1"
      ]
     },
     "execution_count": 24,
     "metadata": {},
     "output_type": "execute_result"
    }
   ],
   "source": [
    "D.duplicated().sum()"
   ]
  },
  {
   "cell_type": "code",
   "execution_count": 25,
   "id": "ad94d340",
   "metadata": {},
   "outputs": [
    {
     "data": {
      "text/html": [
       "<div>\n",
       "<style scoped>\n",
       "    .dataframe tbody tr th:only-of-type {\n",
       "        vertical-align: middle;\n",
       "    }\n",
       "\n",
       "    .dataframe tbody tr th {\n",
       "        vertical-align: top;\n",
       "    }\n",
       "\n",
       "    .dataframe thead th {\n",
       "        text-align: right;\n",
       "    }\n",
       "</style>\n",
       "<table border=\"1\" class=\"dataframe\">\n",
       "  <thead>\n",
       "    <tr style=\"text-align: right;\">\n",
       "      <th></th>\n",
       "      <th>total_bill</th>\n",
       "      <th>tip</th>\n",
       "      <th>sex</th>\n",
       "      <th>smoker</th>\n",
       "      <th>day</th>\n",
       "      <th>time</th>\n",
       "      <th>size</th>\n",
       "    </tr>\n",
       "  </thead>\n",
       "  <tbody>\n",
       "    <tr>\n",
       "      <th>0</th>\n",
       "      <td>16.99</td>\n",
       "      <td>1.01</td>\n",
       "      <td>Female</td>\n",
       "      <td>No</td>\n",
       "      <td>Sun</td>\n",
       "      <td>Dinner</td>\n",
       "      <td>2</td>\n",
       "    </tr>\n",
       "    <tr>\n",
       "      <th>1</th>\n",
       "      <td>10.34</td>\n",
       "      <td>1.66</td>\n",
       "      <td>Male</td>\n",
       "      <td>No</td>\n",
       "      <td>Sun</td>\n",
       "      <td>Dinner</td>\n",
       "      <td>3</td>\n",
       "    </tr>\n",
       "    <tr>\n",
       "      <th>2</th>\n",
       "      <td>21.01</td>\n",
       "      <td>3.50</td>\n",
       "      <td>Male</td>\n",
       "      <td>No</td>\n",
       "      <td>Sun</td>\n",
       "      <td>Dinner</td>\n",
       "      <td>3</td>\n",
       "    </tr>\n",
       "    <tr>\n",
       "      <th>3</th>\n",
       "      <td>23.68</td>\n",
       "      <td>3.31</td>\n",
       "      <td>Male</td>\n",
       "      <td>No</td>\n",
       "      <td>Sun</td>\n",
       "      <td>Dinner</td>\n",
       "      <td>2</td>\n",
       "    </tr>\n",
       "    <tr>\n",
       "      <th>4</th>\n",
       "      <td>24.59</td>\n",
       "      <td>3.61</td>\n",
       "      <td>Female</td>\n",
       "      <td>No</td>\n",
       "      <td>Sun</td>\n",
       "      <td>Dinner</td>\n",
       "      <td>4</td>\n",
       "    </tr>\n",
       "    <tr>\n",
       "      <th>...</th>\n",
       "      <td>...</td>\n",
       "      <td>...</td>\n",
       "      <td>...</td>\n",
       "      <td>...</td>\n",
       "      <td>...</td>\n",
       "      <td>...</td>\n",
       "      <td>...</td>\n",
       "    </tr>\n",
       "    <tr>\n",
       "      <th>239</th>\n",
       "      <td>29.03</td>\n",
       "      <td>5.92</td>\n",
       "      <td>Male</td>\n",
       "      <td>No</td>\n",
       "      <td>Sat</td>\n",
       "      <td>Dinner</td>\n",
       "      <td>3</td>\n",
       "    </tr>\n",
       "    <tr>\n",
       "      <th>240</th>\n",
       "      <td>27.18</td>\n",
       "      <td>2.00</td>\n",
       "      <td>Female</td>\n",
       "      <td>Yes</td>\n",
       "      <td>Sat</td>\n",
       "      <td>Dinner</td>\n",
       "      <td>2</td>\n",
       "    </tr>\n",
       "    <tr>\n",
       "      <th>241</th>\n",
       "      <td>22.67</td>\n",
       "      <td>2.00</td>\n",
       "      <td>Male</td>\n",
       "      <td>Yes</td>\n",
       "      <td>Sat</td>\n",
       "      <td>Dinner</td>\n",
       "      <td>2</td>\n",
       "    </tr>\n",
       "    <tr>\n",
       "      <th>242</th>\n",
       "      <td>17.82</td>\n",
       "      <td>1.75</td>\n",
       "      <td>Male</td>\n",
       "      <td>No</td>\n",
       "      <td>Sat</td>\n",
       "      <td>Dinner</td>\n",
       "      <td>2</td>\n",
       "    </tr>\n",
       "    <tr>\n",
       "      <th>243</th>\n",
       "      <td>18.78</td>\n",
       "      <td>3.00</td>\n",
       "      <td>Female</td>\n",
       "      <td>No</td>\n",
       "      <td>Thur</td>\n",
       "      <td>Dinner</td>\n",
       "      <td>2</td>\n",
       "    </tr>\n",
       "  </tbody>\n",
       "</table>\n",
       "<p>243 rows × 7 columns</p>\n",
       "</div>"
      ],
      "text/plain": [
       "     total_bill   tip     sex smoker   day    time  size\n",
       "0         16.99  1.01  Female     No   Sun  Dinner     2\n",
       "1         10.34  1.66    Male     No   Sun  Dinner     3\n",
       "2         21.01  3.50    Male     No   Sun  Dinner     3\n",
       "3         23.68  3.31    Male     No   Sun  Dinner     2\n",
       "4         24.59  3.61  Female     No   Sun  Dinner     4\n",
       "..          ...   ...     ...    ...   ...     ...   ...\n",
       "239       29.03  5.92    Male     No   Sat  Dinner     3\n",
       "240       27.18  2.00  Female    Yes   Sat  Dinner     2\n",
       "241       22.67  2.00    Male    Yes   Sat  Dinner     2\n",
       "242       17.82  1.75    Male     No   Sat  Dinner     2\n",
       "243       18.78  3.00  Female     No  Thur  Dinner     2\n",
       "\n",
       "[243 rows x 7 columns]"
      ]
     },
     "execution_count": 25,
     "metadata": {},
     "output_type": "execute_result"
    }
   ],
   "source": [
    "D.drop_duplicates()"
   ]
  },
  {
   "cell_type": "code",
   "execution_count": 26,
   "id": "724146a0",
   "metadata": {},
   "outputs": [
    {
     "data": {
      "text/plain": [
       "Male      157\n",
       "Female     87\n",
       "Name: sex, dtype: int64"
      ]
     },
     "execution_count": 26,
     "metadata": {},
     "output_type": "execute_result"
    }
   ],
   "source": [
    "D['sex'].value_counts()"
   ]
  },
  {
   "cell_type": "code",
   "execution_count": 27,
   "id": "c07f5a35",
   "metadata": {},
   "outputs": [
    {
     "data": {
      "text/plain": [
       "Dinner    176\n",
       "Lunch      68\n",
       "Name: time, dtype: int64"
      ]
     },
     "execution_count": 27,
     "metadata": {},
     "output_type": "execute_result"
    }
   ],
   "source": [
    "D['time'].value_counts()"
   ]
  },
  {
   "cell_type": "code",
   "execution_count": 28,
   "id": "c17b3836",
   "metadata": {},
   "outputs": [
    {
     "data": {
      "text/plain": [
       "13.42    3\n",
       "13.81    2\n",
       "15.98    2\n",
       "17.92    2\n",
       "10.07    2\n",
       "        ..\n",
       "24.71    1\n",
       "21.16    1\n",
       "28.97    1\n",
       "22.49    1\n",
       "18.78    1\n",
       "Name: total_bill, Length: 229, dtype: int64"
      ]
     },
     "execution_count": 28,
     "metadata": {},
     "output_type": "execute_result"
    }
   ],
   "source": [
    "D['total_bill'].value_counts()"
   ]
  },
  {
   "cell_type": "code",
   "execution_count": 29,
   "id": "5fef0729",
   "metadata": {},
   "outputs": [
    {
     "name": "stderr",
     "output_type": "stream",
     "text": [
      "C:\\Users\\91956\\AppData\\Local\\Temp/ipykernel_13044/2826635041.py:1: FutureWarning: Dropping of nuisance columns in DataFrame reductions (with 'numeric_only=None') is deprecated; in a future version this will raise TypeError.  Select only valid columns before calling the reduction.\n",
      "  D.mean()\n"
     ]
    },
    {
     "data": {
      "text/plain": [
       "total_bill    19.785943\n",
       "tip            2.998279\n",
       "size           2.569672\n",
       "dtype: float64"
      ]
     },
     "execution_count": 29,
     "metadata": {},
     "output_type": "execute_result"
    }
   ],
   "source": [
    "D.mean()"
   ]
  },
  {
   "cell_type": "code",
   "execution_count": 30,
   "id": "9491f098",
   "metadata": {},
   "outputs": [
    {
     "name": "stderr",
     "output_type": "stream",
     "text": [
      "C:\\Users\\91956\\AppData\\Local\\Temp/ipykernel_13044/2648751133.py:1: FutureWarning: Dropping of nuisance columns in DataFrame reductions (with 'numeric_only=None') is deprecated; in a future version this will raise TypeError.  Select only valid columns before calling the reduction.\n",
      "  D.median()\n"
     ]
    },
    {
     "data": {
      "text/plain": [
       "total_bill    17.795\n",
       "tip            2.900\n",
       "size           2.000\n",
       "dtype: float64"
      ]
     },
     "execution_count": 30,
     "metadata": {},
     "output_type": "execute_result"
    }
   ],
   "source": [
    "D.median()"
   ]
  },
  {
   "cell_type": "code",
   "execution_count": 31,
   "id": "44f97f1e",
   "metadata": {},
   "outputs": [
    {
     "data": {
      "text/html": [
       "<div>\n",
       "<style scoped>\n",
       "    .dataframe tbody tr th:only-of-type {\n",
       "        vertical-align: middle;\n",
       "    }\n",
       "\n",
       "    .dataframe tbody tr th {\n",
       "        vertical-align: top;\n",
       "    }\n",
       "\n",
       "    .dataframe thead th {\n",
       "        text-align: right;\n",
       "    }\n",
       "</style>\n",
       "<table border=\"1\" class=\"dataframe\">\n",
       "  <thead>\n",
       "    <tr style=\"text-align: right;\">\n",
       "      <th></th>\n",
       "      <th>total_bill</th>\n",
       "      <th>tip</th>\n",
       "      <th>sex</th>\n",
       "      <th>smoker</th>\n",
       "      <th>day</th>\n",
       "      <th>time</th>\n",
       "      <th>size</th>\n",
       "    </tr>\n",
       "  </thead>\n",
       "  <tbody>\n",
       "    <tr>\n",
       "      <th>0</th>\n",
       "      <td>13.42</td>\n",
       "      <td>2.0</td>\n",
       "      <td>Male</td>\n",
       "      <td>No</td>\n",
       "      <td>Sat</td>\n",
       "      <td>Dinner</td>\n",
       "      <td>2</td>\n",
       "    </tr>\n",
       "  </tbody>\n",
       "</table>\n",
       "</div>"
      ],
      "text/plain": [
       "   total_bill  tip   sex smoker  day    time  size\n",
       "0       13.42  2.0  Male     No  Sat  Dinner     2"
      ]
     },
     "execution_count": 31,
     "metadata": {},
     "output_type": "execute_result"
    }
   ],
   "source": [
    "D.mode(axis=0)"
   ]
  },
  {
   "cell_type": "code",
   "execution_count": 32,
   "id": "84dbb32b",
   "metadata": {},
   "outputs": [
    {
     "data": {
      "text/plain": [
       "<AxesSubplot:xlabel='day', ylabel='tip'>"
      ]
     },
     "execution_count": 32,
     "metadata": {},
     "output_type": "execute_result"
    },
    {
     "data": {
      "image/png": "[encoded data removed]",
      "text/plain": [
       "<Figure size 432x288 with 1 Axes>"
      ]
     },
     "metadata": {
      "needs_background": "light"
     },
     "output_type": "display_data"
    }
   ],
   "source": [
    "# Bar PLot\n",
    "sns.barplot(x='day',y='tip',data=D)"
   ]
  },
  {
   "cell_type": "code",
   "execution_count": 35,
   "id": "93110f97",
   "metadata": {},
   "outputs": [
    {
     "data": {
      "text/plain": [
       "<AxesSubplot:xlabel='day', ylabel='tip'>"
      ]
     },
     "execution_count": 35,
     "metadata": {},
     "output_type": "execute_result"
    },
    {
     "data": {
      "image/png": "[encoded data removed]",
      "text/plain": [
       "<Figure size 432x288 with 1 Axes>"
      ]
     },
     "metadata": {
      "needs_background": "light"
     },
     "output_type": "display_data"
    }
   ],
   "source": [
    "# create a side by side bar plot using seaborn between day & total bill \n",
    "sns.barplot(x='day',y='tip',hue='sex',data=D)"
   ]
  },
  {
   "cell_type": "code",
   "execution_count": 37,
   "id": "8438e1e3",
   "metadata": {},
   "outputs": [
    {
     "data": {
      "text/plain": [
       "<AxesSubplot:xlabel='day', ylabel='tip'>"
      ]
     },
     "execution_count": 37,
     "metadata": {},
     "output_type": "execute_result"
    },
    {
     "data": {
      "image/png": "[encoded data removed]",
      "text/plain": [
       "<Figure size 432x288 with 1 Axes>"
      ]
     },
     "metadata": {
      "needs_background": "light"
     },
     "output_type": "display_data"
    }
   ],
   "source": [
    "sns.barplot(x='day',y='tip',hue='sex',data=D,palette='spring')"
   ]
  },
  {
   "cell_type": "code",
   "execution_count": 38,
   "id": "447886b8",
   "metadata": {},
   "outputs": [
    {
     "data": {
      "text/plain": [
       "<AxesSubplot:xlabel='day', ylabel='total_bill'>"
      ]
     },
     "execution_count": 38,
     "metadata": {},
     "output_type": "execute_result"
    },
    {
     "data": {
      "image/png": "[encoded data removed]",
      "text/plain": [
       "<Figure size 432x288 with 1 Axes>"
      ]
     },
     "metadata": {
      "needs_background": "light"
     },
     "output_type": "display_data"
    }
   ],
   "source": [
    "sns.barplot(x='day',y='total_bill',hue='sex',data=D,palette = 'spring')"
   ]
  },
  {
   "cell_type": "code",
   "execution_count": 39,
   "id": "558943c8",
   "metadata": {},
   "outputs": [
    {
     "data": {
      "text/plain": [
       "<seaborn.axisgrid.JointGrid at 0x2892ad1fdc0>"
      ]
     },
     "execution_count": 39,
     "metadata": {},
     "output_type": "execute_result"
    },
    {
     "data": {
      "image/png": "[encoded data removed]",
      "text/plain": [
       "<Figure size 432x432 with 3 Axes>"
      ]
     },
     "metadata": {
      "needs_background": "light"
     },
     "output_type": "display_data"
    }
   ],
   "source": [
    "# jointplot\n",
    "sns.jointplot(x='day',y='tip',data=D)"
   ]
  },
  {
   "cell_type": "code",
   "execution_count": 40,
   "id": "64f76313",
   "metadata": {},
   "outputs": [
    {
     "data": {
      "image/png": "[encoded data removed]",
      "text/plain": [
       "<Figure size 432x432 with 3 Axes>"
      ]
     },
     "metadata": {
      "needs_background": "light"
     },
     "output_type": "display_data"
    }
   ],
   "source": [
    "sns.jointplot(x='tip',y='total_bill',palette='spring',data=D,kind='hex')\n",
    "plt.show()"
   ]
  },
  {
   "cell_type": "code",
   "execution_count": 41,
   "id": "084e701b",
   "metadata": {},
   "outputs": [
    {
     "data": {
      "image/png": "[encoded data removed]",
      "text/plain": [
       "<Figure size 432x432 with 3 Axes>"
      ]
     },
     "metadata": {
      "needs_background": "light"
     },
     "output_type": "display_data"
    }
   ],
   "source": [
    "sns.jointplot(x='tip',y='total_bill',palette='spring',data=D,kind='reg')\n",
    "plt.show()"
   ]
  },
  {
   "cell_type": "code",
   "execution_count": 43,
   "id": "0b0a8af4",
   "metadata": {},
   "outputs": [
    {
     "data": {
      "text/plain": [
       "<seaborn.axisgrid.PairGrid at 0x2892c37dd60>"
      ]
     },
     "execution_count": 43,
     "metadata": {},
     "output_type": "execute_result"
    },
    {
     "data": {
      "image/png": "[encoded data removed]",
      "text/plain": [
       "<Figure size 540x540 with 12 Axes>"
      ]
     },
     "metadata": {
      "needs_background": "light"
     },
     "output_type": "display_data"
    }
   ],
   "source": [
    "# pairplot()\n",
    "# work on numerical data only\n",
    "sns.pairplot(D)"
   ]
  },
  {
   "cell_type": "code",
   "execution_count": 44,
   "id": "acbfcc82",
   "metadata": {},
   "outputs": [
    {
     "data": {
      "text/plain": [
       "<seaborn.axisgrid.PairGrid at 0x2892b2e0e80>"
      ]
     },
     "execution_count": 44,
     "metadata": {},
     "output_type": "execute_result"
    },
    {
     "data": {
      "image/png": "[encoded data removed]",
      "text/plain": [
       "<Figure size 612.125x540 with 12 Axes>"
      ]
     },
     "metadata": {
      "needs_background": "light"
     },
     "output_type": "display_data"
    }
   ],
   "source": [
    "sns.pairplot(D,hue='sex')"
   ]
  },
  {
   "cell_type": "code",
   "execution_count": 47,
   "id": "5a9fad6e",
   "metadata": {},
   "outputs": [
    {
     "data": {
      "text/plain": [
       "<AxesSubplot:xlabel='total_bill', ylabel='Density'>"
      ]
     },
     "execution_count": 47,
     "metadata": {},
     "output_type": "execute_result"
    },
    {
     "data": {
      "image/png": "[encoded data removed]",
      "text/plain": [
       "<Figure size 432x288 with 1 Axes>"
      ]
     },
     "metadata": {
      "needs_background": "light"
     },
     "output_type": "display_data"
    }
   ],
   "source": [
    "# displot() is use for finding the normality of data or distribution of data.\n",
    "sns.distplot(D['total_bill'])"
   ]
  },
  {
   "cell_type": "code",
   "execution_count": 48,
   "id": "9c1b5d4d",
   "metadata": {},
   "outputs": [
    {
     "name": "stderr",
     "output_type": "stream",
     "text": [
      "C:\\Users\\91956\\anaconda3\\lib\\site-packages\\seaborn\\distributions.py:2619: FutureWarning: `distplot` is a deprecated function and will be removed in a future version. Please adapt your code to use either `displot` (a figure-level function with similar flexibility) or `histplot` (an axes-level function for histograms).\n",
      "  warnings.warn(msg, FutureWarning)\n"
     ]
    },
    {
     "data": {
      "text/plain": [
       "<AxesSubplot:xlabel='size', ylabel='Density'>"
      ]
     },
     "execution_count": 48,
     "metadata": {},
     "output_type": "execute_result"
    },
    {
     "data": {
      "image/png": "[encoded data removed]",
      "text/plain": [
       "<Figure size 432x288 with 1 Axes>"
      ]
     },
     "metadata": {
      "needs_background": "light"
     },
     "output_type": "display_data"
    }
   ],
   "source": [
    "sns.distplot(D['size'])"
   ]
  },
  {
   "cell_type": "code",
   "execution_count": 51,
   "id": "0881c975",
   "metadata": {},
   "outputs": [
    {
     "name": "stderr",
     "output_type": "stream",
     "text": [
      "C:\\Users\\91956\\anaconda3\\lib\\site-packages\\seaborn\\distributions.py:2619: FutureWarning: `distplot` is a deprecated function and will be removed in a future version. Please adapt your code to use either `displot` (a figure-level function with similar flexibility) or `kdeplot` (an axes-level function for kernel density plots).\n",
      "  warnings.warn(msg, FutureWarning)\n"
     ]
    },
    {
     "data": {
      "text/plain": [
       "<AxesSubplot:xlabel='tip', ylabel='Density'>"
      ]
     },
     "execution_count": 51,
     "metadata": {},
     "output_type": "execute_result"
    },
    {
     "data": {
      "image/png": "[encoded data removed]",
      "text/plain": [
       "<Figure size 432x288 with 1 Axes>"
      ]
     },
     "metadata": {
      "needs_background": "light"
     },
     "output_type": "display_data"
    }
   ],
   "source": [
    "sns.distplot(D['tip'],color='g',hist=False)"
   ]
  },
  {
   "cell_type": "code",
   "execution_count": null,
   "id": "c56406e7",
   "metadata": {},
   "outputs": [],
   "source": []
  }
 ],
 "metadata": {
  "kernelspec": {
   "display_name": "Python 3 (ipykernel)",
   "language": "python",
   "name": "python3"
  },
  "language_info": {
   "codemirror_mode": {
    "name": "ipython",
    "version": 3
   },
   "file_extension": ".py",
   "mimetype": "text/x-python",
   "name": "python",
   "nbconvert_exporter": "python",
   "pygments_lexer": "ipython3",
   "version": "3.9.7"
  }
 },
 "nbformat": 4,
 "nbformat_minor": 5
}
